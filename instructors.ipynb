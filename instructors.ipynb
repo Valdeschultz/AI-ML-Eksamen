{
 "cells": [
  {
   "cell_type": "code",
   "execution_count": 1,
   "id": "b5634f79",
   "metadata": {},
   "outputs": [],
   "source": [
    "from dotenv import load_dotenv\n",
    "import os\n",
    "import pandas as pd\n",
    "from typing import TypeVar, Any\n",
    "from pydantic import BaseModel, Field, create_model\n",
    "\n",
    "import litellm\n",
    "from litellm import completion\n",
    "from instructor import from_litellm, Mode\n",
    "\n"
   ]
  },
  {
   "cell_type": "code",
   "execution_count": 10,
   "id": "44267459",
   "metadata": {},
   "outputs": [],
   "source": [
    "litellm.drop_params = True  # watsonx.ai doesn't support `json_mode`\n",
    "client = from_litellm(completion, mode=Mode.JSON)  # create an instructor client from litellm"
   ]
  },
  {
   "cell_type": "code",
   "execution_count": null,
   "id": "a7295720",
   "metadata": {},
   "outputs": [],
   "source": [
    "class BaseResponse(BaseModel):\n",
    "    \"\"\"A default response model that stores a list of predicted Ekman emotions. We will use this to predict the emotions of a review.\"\"\"\n",
    "    answer: str\n",
    "\n",
    "ResponseType = TypeVar('ResponseType', bound=BaseModel)\n",
    "\n",
    "class LLMCaller:\n",
    "    \"\"\"\n",
    "    A class to interact with a Large Language Model (LLM)\n",
    "    using the LiteLLM and Instructor libraries.\n",
    "    \n",
    "    Designed to send prompts and receive structured responses\n",
    "    as Pydantic models (e.g., predicted emotions).\n",
    "    \"\"\"\n",
    "    def __init__(self, api_key: str, project_id: str, api_url: str, model_id: str, params: dict[str, Any]):\n",
    "        \"\"\"Initializes the LLMCaller with Watsonx credentials and configuration.\"\"\"\n",
    "        self.api_key = api_key\n",
    "        self.project_id = project_id\n",
    "        self.api_url = api_url\n",
    "        self.model_id = model_id\n",
    "        self.params = params\n",
    "\n",
    "        litellm.drop_params = True\n",
    "        self.client = from_litellm(completion, mode=Mode.JSON)\n",
    "\n",
    "    def create_response_model(self, title: str, fields: dict) -> ResponseType:\n",
    "        return create_model(title, **fields, __base__=BaseResponse)\n",
    "\n",
    "    def invoke(self, prompt: str, response_model: ResponseType = BaseResponse, **kwargs) -> ResponseType:\n",
    "        response = self.client.chat.completions.create(\n",
    "            model=self.model_id,\n",
    "            messages=[{\n",
    "                \"role\": \"user\",\n",
    "                \"content\": prompt + \"\\n\\nRespond using this structure: \" + str(response_model.__annotations__)\n",
    "            }],\n",
    "            project_id=self.project_id,\n",
    "            apikey=self.api_key,\n",
    "            api_base=self.api_url,\n",
    "            response_model=response_model,\n",
    "            **kwargs\n",
    "        )\n",
    "        return response\n",
    "\n",
    "\n",
    "\n"
   ]
  },
  {
   "cell_type": "code",
   "execution_count": 3,
   "id": "0e740ecb",
   "metadata": {},
   "outputs": [],
   "source": [
    "load_dotenv()\n",
    "\n",
    "llm = LLMCaller(\n",
    "    api_key=os.getenv(\"WX_API_KEY\"),\n",
    "    project_id=os.getenv(\"WX_PROJECT_ID_RAG\"),\n",
    "    api_url=os.getenv(\"WX_URL\"),\n",
    "    model_id=\"watsonx/mistralai/mistral-large\",\n",
    "    params={\"max_tokens\": 100}\n",
    ")\n"
   ]
  },
  {
   "cell_type": "code",
   "execution_count": 4,
   "id": "ddf1a711",
   "metadata": {},
   "outputs": [],
   "source": [
    "# Load the emotion definitions\n",
    "df_defs = pd.read_csv(\"data/oxford_ekman_emotions.csv\")\n",
    "emotion_definitions = dict(zip(df_defs[\"emotion\"], df_defs[\"definition\"]))\n",
    "\n"
   ]
  },
  {
   "cell_type": "code",
   "execution_count": 5,
   "id": "3a9c3d30",
   "metadata": {},
   "outputs": [],
   "source": [
    "class EmotionResponse(BaseModel):\n",
    "    emotions: list[str] = Field(..., description=\"The list of Ekman emotions expressed in the review.\")\n"
   ]
  },
  {
   "cell_type": "code",
   "execution_count": 6,
   "id": "0e04936b",
   "metadata": {},
   "outputs": [],
   "source": [
    "def build_prompt(review: str, definitions: dict[str, str]) -> str:\n",
    "    intro = \"You are a helpful assistant that classifies customer reviews using Ekman's 7 emotions.\\n\"\n",
    "    guide = \"Use ONLY the following emotion definitions:\\n\\n\"\n",
    "    for emotion, definition in definitions.items():\n",
    "        guide += f\"{emotion.upper()}: {definition}\\n\"\n",
    "    task = (\n",
    "        f\"\\n\\nClassify the following review into one or more Ekman emotions:\\n\\n\"\n",
    "        f\"Review: \\\"{review}\\\"\\n\"\n",
    "        f\"List all matching emotions. If none apply, return ['neutral'].\"\n",
    "    )\n",
    "    return intro + guide + task\n"
   ]
  },
  {
   "cell_type": "code",
   "execution_count": 7,
   "id": "61e3acef",
   "metadata": {},
   "outputs": [
    {
     "name": "stdout",
     "output_type": "stream",
     "text": [
      "Prompt sent to LLM:\n",
      "You are a helpful assistant that classifies customer reviews using Ekman's 7 emotions.\n",
      "Use ONLY the following emotion definitions:\n",
      "\n",
      "ANGER: A strong feeling of annoyance, displeasure, or hostility.\n",
      "DISGUST: A strong feeling of dislike or disapproval for something unpleasant or offensive.\n",
      "FEAR: An unpleasant emotion caused by the threat of danger, pain, or harm.\n",
      "JOY: A feeling of great pleasure and happiness.\n",
      "SADNESS: The condition or quality of being sad; sorrow; a feeling of unhappiness or grief.\n",
      "SURPRISE: A feeling of mild astonishment or shock caused by something unexpected.\n",
      "NEUTRAL: Not displaying any strong emotion or feeling; a lack of emotional expression.\n",
      "\n",
      "\n",
      "Classify the following review into one or more Ekman emotions:\n",
      "\n",
      "Review: \"I was furious at the lack of help and felt completely disrespected.\"\n",
      "List all matching emotions. If none apply, return ['neutral'].\n",
      "Predicted emotions: ['ANGER', 'DISGUST']\n"
     ]
    }
   ],
   "source": [
    "sample_review = \"I was furious at the lack of help and felt completely disrespected.\"\n",
    "\n",
    "prompt = build_prompt(sample_review, emotion_definitions)\n",
    "result = llm.invoke(prompt=prompt, response_model=EmotionResponse)\n",
    "\n",
    "print(\"Prompt sent to LLM:\")\n",
    "print(prompt)\n",
    "\n",
    "try:\n",
    "    result = llm.invoke(prompt=prompt, response_model=EmotionResponse)\n",
    "    print(\"Predicted emotions:\", result.emotions)\n",
    "except Exception as e:\n",
    "    print(\"Error occurred:\", e)\n"
   ]
  },
  {
   "cell_type": "code",
   "execution_count": 8,
   "id": "36a96ec7",
   "metadata": {},
   "outputs": [],
   "source": [
    "df_test = pd.read_csv(\"data/ekman_test.csv\").sample(n=500, random_state=42)\n",
    "\n",
    "def safe_predict_emotions(text):\n",
    "    try:\n",
    "        prompt = build_prompt(text, emotion_definitions)\n",
    "        result = llm.invoke(prompt=prompt, response_model=EmotionResponse)\n",
    "        return result.emotions\n",
    "    except Exception as e:\n",
    "        return [\"error\"]\n",
    "\n",
    "df_test[\"predicted_emotions\"] = df_test[\"text\"].apply(safe_predict_emotions)\n"
   ]
  },
  {
   "cell_type": "code",
   "execution_count": 9,
   "id": "1235d81f",
   "metadata": {},
   "outputs": [],
   "source": [
    "df_test.to_csv(\"ekman_test_predictions_structured.csv\", index=False)"
   ]
  },
  {
   "cell_type": "code",
   "execution_count": 176,
   "id": "3475f790",
   "metadata": {},
   "outputs": [],
   "source": [
    "import ast\n",
    "\n",
    "def classify_emotion(review_text):\n",
    "    # Build the prompt using correct variables\n",
    "    prompt = build_prompt(review_text, emotion_definitions, few_shots)\n",
    "    \n",
    "    # Get the model's response\n",
    "    response = llm.invoke(prompt).strip()\n",
    "\n",
    "    # Try parsing it as a Python list\n",
    "    try:\n",
    "        parsed = ast.literal_eval(response)\n",
    "        if isinstance(parsed, list):\n",
    "            return parsed\n",
    "        else:\n",
    "            return f\"Parsed but not a list: {parsed}\"\n",
    "    except Exception as e:\n",
    "        return f\"Could not parse response. Raw output: {response}\"\n"
   ]
  },
  {
   "cell_type": "code",
   "execution_count": 177,
   "id": "43a01926",
   "metadata": {},
   "outputs": [
    {
     "name": "stdout",
     "output_type": "stream",
     "text": [
      "You are an assistant that identifies all applicable emotions from a customer review.\n",
      "\n",
      "Emotion Definitions:\n",
      "\n",
      "\n",
      "Examples:\n",
      "Input: \"I felt abandoned and hopeless.\"\n",
      "Emotions: sadness\n",
      "\n",
      "Input: \"That jump scare was wild!\"\n",
      "Emotions: surprise, fear\n",
      "\n",
      "Now classify the following text. Return your answer only as a Python list of one or more emotion labels from this set:\n",
      "[\"anger\", \"disgust\", \"fear\", \"joy\", \"neutral\", \"sadness\", \"surprise\"].\n",
      "\n",
      "Do not explain. Do not leave the Emotions empty!.\n",
      "Input: \"This game crashes constantly and the support team never responds!\"\n",
      "Emotions:\n"
     ]
    }
   ],
   "source": [
    "user_review = \"This game crashes constantly and the support team never responds!\"\n",
    "prompt = build_prompt(user_review, emotion_definitions, few_shots)\n",
    "print(prompt)"
   ]
  }
 ],
 "metadata": {
  "kernelspec": {
   "display_name": "base",
   "language": "python",
   "name": "python3"
  },
  "language_info": {
   "codemirror_mode": {
    "name": "ipython",
    "version": 3
   },
   "file_extension": ".py",
   "mimetype": "text/x-python",
   "name": "python",
   "nbconvert_exporter": "python",
   "pygments_lexer": "ipython3",
   "version": "3.11.5"
  }
 },
 "nbformat": 4,
 "nbformat_minor": 5
}
