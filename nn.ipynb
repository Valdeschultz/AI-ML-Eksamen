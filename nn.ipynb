{
 "cells": [
  {
   "cell_type": "code",
   "execution_count": 1,
   "id": "8e0110f8",
   "metadata": {},
   "outputs": [],
   "source": [
    "import pandas as pd\n",
    "import torch\n",
    "from torch.utils.data import Dataset, DataLoader\n",
    "from torch.nn.utils.rnn import pad_sequence\n",
    "import torch.nn as nn\n",
    "import torch.optim as optim\n",
    "from collections import Counter\n",
    "import nltk\n",
    "from nltk.tokenize import word_tokenize\n",
    "import matplotlib.pyplot as plt\n",
    "import numpy as np\n",
    "\n",
    "from sklearn.metrics import classification_report\n",
    "from itertools import product\n",
    "from tqdm import tqdm\n"
   ]
  },
  {
   "cell_type": "code",
   "execution_count": 2,
   "id": "69005660",
   "metadata": {},
   "outputs": [
    {
     "name": "stderr",
     "output_type": "stream",
     "text": [
      "[nltk_data] Downloading package punkt to\n",
      "[nltk_data]     /Users/marcuskrarup/nltk_data...\n",
      "[nltk_data]   Package punkt is already up-to-date!\n"
     ]
    },
    {
     "data": {
      "text/plain": [
       "True"
      ]
     },
     "execution_count": 2,
     "metadata": {},
     "output_type": "execute_result"
    }
   ],
   "source": [
    "nltk.download('punkt')"
   ]
  },
  {
   "cell_type": "markdown",
   "id": "7018f412",
   "metadata": {},
   "source": [
    "# Load data"
   ]
  },
  {
   "cell_type": "code",
   "execution_count": 3,
   "id": "a1e01561",
   "metadata": {},
   "outputs": [],
   "source": [
    "# Import Ekman emotions to DataFrame\n",
    "df_train_ekman = pd.read_csv('data/ekman_train.csv')\n",
    "df_val_ekman = pd.read_csv('data/ekman_val.csv')\n",
    "df_test_ekman = pd.read_csv('data/ekman_test.csv')\n",
    "\n"
   ]
  },
  {
   "cell_type": "code",
   "execution_count": 4,
   "id": "fb04edd5",
   "metadata": {},
   "outputs": [
    {
     "name": "stdout",
     "output_type": "stream",
     "text": [
      "Train Counts:\n",
      " anger        4824\n",
      "disgust       818\n",
      "fear          695\n",
      "joy         13877\n",
      "neutral      9290\n",
      "sadness      2967\n",
      "surprise     4783\n",
      "dtype: int64\n",
      "\n",
      "Test Counts:\n",
      " anger       1635\n",
      "disgust      281\n",
      "fear         257\n",
      "joy         4622\n",
      "neutral     3046\n",
      "sadness     1042\n",
      "surprise    1638\n",
      "dtype: int64\n",
      "\n",
      "Validation Counts:\n",
      " anger       1568\n",
      "disgust      250\n",
      "fear         258\n",
      "joy         4599\n",
      "neutral     3152\n",
      "sadness      977\n",
      "surprise    1636\n",
      "dtype: int64\n"
     ]
    }
   ],
   "source": [
    "# Count occurrences for each emotion in train, test, and val datasets\n",
    "train_counts = df_train_ekman.iloc[:, 1:].sum()\n",
    "test_counts = df_test_ekman.iloc[:, 1:].sum()\n",
    "val_counts = df_val_ekman.iloc[:, 1:].sum()\n",
    "\n",
    "print(\"Train Counts:\\n\", train_counts)\n",
    "print(\"\\nTest Counts:\\n\", test_counts)\n",
    "print(\"\\nValidation Counts:\\n\", val_counts)"
   ]
  },
  {
   "cell_type": "markdown",
   "id": "9d301166",
   "metadata": {},
   "source": [
    "# Text preprocessing"
   ]
  },
  {
   "cell_type": "code",
   "execution_count": 5,
   "id": "1ff79a94",
   "metadata": {},
   "outputs": [],
   "source": [
    "def preprocess(text):\n",
    "    return word_tokenize(text.lower())"
   ]
  },
  {
   "cell_type": "markdown",
   "id": "28b1449c",
   "metadata": {},
   "source": [
    "# Build vocab"
   ]
  },
  {
   "cell_type": "code",
   "execution_count": 6,
   "id": "bbe94e4c",
   "metadata": {},
   "outputs": [],
   "source": [
    "tokenized_texts = df_train_ekman['text'].apply(preprocess)\n",
    "word_counts = Counter(token for tokens in tokenized_texts for token in tokens)\n",
    "vocab = {word: i + 2 for i, (word, _) in enumerate(word_counts.items())}\n",
    "vocab['<PAD>'] = 0\n",
    "vocab['<UNK>'] = 1\n",
    "\n",
    "def encode(text):\n",
    "    return [vocab.get(t, vocab['<UNK>']) for t in preprocess(text)]"
   ]
  },
  {
   "cell_type": "markdown",
   "id": "4f1567cc",
   "metadata": {},
   "source": [
    "# Dataset"
   ]
  },
  {
   "cell_type": "code",
   "execution_count": 7,
   "id": "219b2c8c",
   "metadata": {},
   "outputs": [],
   "source": [
    "class EmotionDataset(Dataset):\n",
    "    def __init__(self, df):\n",
    "        self.X = [torch.tensor(encode(text)) for text in df['text']]\n",
    "        self.y = torch.tensor(df.iloc[:, 1:].values, dtype=torch.float)\n",
    "\n",
    "    def __len__(self):\n",
    "        return len(self.X)\n",
    "\n",
    "    def __getitem__(self, idx):\n",
    "        return self.X[idx], self.y[idx]\n",
    "\n",
    "def collate_fn(batch):\n",
    "    sequences, labels = zip(*batch)\n",
    "    padded_seqs = pad_sequence(sequences, batch_first=True, padding_value=0)\n",
    "    return padded_seqs, torch.stack(labels)\n",
    "\n",
    "train_loader = DataLoader(EmotionDataset(df_train_ekman), batch_size=32, shuffle=True, collate_fn=collate_fn)\n",
    "val_loader = DataLoader(EmotionDataset(df_val_ekman), batch_size=32, collate_fn=collate_fn)\n",
    "test_loader = DataLoader(EmotionDataset(df_test_ekman), batch_size=32, collate_fn=collate_fn)"
   ]
  },
  {
   "cell_type": "markdown",
   "id": "50a0ae05",
   "metadata": {},
   "source": [
    "# Model"
   ]
  },
  {
   "cell_type": "code",
   "execution_count": 8,
   "id": "9983cce0",
   "metadata": {},
   "outputs": [],
   "source": [
    "class EmotionLSTM(nn.Module):\n",
    "    def __init__(self, vocab_size, embed_dim, hidden_dim, output_dim):\n",
    "        super().__init__()\n",
    "        self.embedding = nn.Embedding(vocab_size, embed_dim, padding_idx=0)\n",
    "        self.lstm = nn.LSTM(embed_dim, hidden_dim, batch_first=True)\n",
    "        self.fc = nn.Linear(hidden_dim, output_dim)\n",
    "        self.sigmoid = nn.Sigmoid()\n",
    "\n",
    "    def forward(self, x):\n",
    "        x = self.embedding(x)\n",
    "        _, (h_n, _) = self.lstm(x)\n",
    "        out = self.fc(h_n[-1])\n",
    "        return self.sigmoid(out)"
   ]
  },
  {
   "cell_type": "markdown",
   "id": "8dec3a7b",
   "metadata": {},
   "source": [
    "# Initialize"
   ]
  },
  {
   "cell_type": "code",
   "execution_count": 9,
   "id": "35b1a2d8",
   "metadata": {},
   "outputs": [],
   "source": [
    "device = torch.device('cuda' if torch.cuda.is_available() else 'cpu')\n",
    "model = EmotionLSTM(len(vocab), embed_dim=100, hidden_dim=128, output_dim=7).to(device)\n",
    "criterion = nn.BCELoss()\n",
    "optimizer = optim.Adam(model.parameters(), lr=0.001)"
   ]
  },
  {
   "cell_type": "markdown",
   "id": "bfd1d9f8",
   "metadata": {},
   "source": [
    "# Training loop"
   ]
  },
  {
   "cell_type": "code",
   "execution_count": 10,
   "id": "9bb01046",
   "metadata": {},
   "outputs": [
    {
     "name": "stdout",
     "output_type": "stream",
     "text": [
      "Epoch 1, Loss: 400.4238\n",
      "Epoch 2, Loss: 360.8750\n",
      "Epoch 3, Loss: 334.5906\n",
      "Epoch 4, Loss: 309.7308\n",
      "Epoch 5, Loss: 283.6579\n"
     ]
    }
   ],
   "source": [
    "for epoch in range(5):\n",
    "    model.train()\n",
    "    total_loss = 0\n",
    "    for X_batch, y_batch in train_loader:\n",
    "        X_batch, y_batch = X_batch.to(device), y_batch.to(device)\n",
    "        optimizer.zero_grad()\n",
    "        preds = model(X_batch)\n",
    "        loss = criterion(preds, y_batch)\n",
    "        loss.backward()\n",
    "        optimizer.step()\n",
    "        total_loss += loss.item()\n",
    "    print(f\"Epoch {epoch+1}, Loss: {total_loss:.4f}\")"
   ]
  },
  {
   "cell_type": "markdown",
   "id": "141fdd32",
   "metadata": {},
   "source": [
    "# Evaluation (Validation or Test)"
   ]
  },
  {
   "cell_type": "code",
   "execution_count": 11,
   "id": "a09ffecf",
   "metadata": {},
   "outputs": [
    {
     "name": "stdout",
     "output_type": "stream",
     "text": [
      "Epoch 1, Loss: 255.9115\n",
      "Epoch 2, Loss: 226.8393\n",
      "Epoch 3, Loss: 199.0102\n",
      "Epoch 4, Loss: 174.0240\n",
      "Epoch 5, Loss: 153.6952\n"
     ]
    }
   ],
   "source": [
    "for epoch in range(5):\n",
    "    model.train()\n",
    "    total_loss = 0\n",
    "    for X_batch, y_batch in train_loader:\n",
    "        X_batch, y_batch = X_batch.to(device), y_batch.to(device)\n",
    "        optimizer.zero_grad()\n",
    "        preds = model(X_batch)\n",
    "        loss = criterion(preds, y_batch)\n",
    "        loss.backward()\n",
    "        optimizer.step()\n",
    "        total_loss += loss.item()\n",
    "    print(f\"Epoch {epoch+1}, Loss: {total_loss:.4f}\")"
   ]
  },
  {
   "cell_type": "code",
   "execution_count": 12,
   "id": "ed103e52",
   "metadata": {},
   "outputs": [],
   "source": [
    "def evaluate(loader):\n",
    "    model.eval()\n",
    "    correct, total = 0, 0\n",
    "    with torch.no_grad():\n",
    "        for X_batch, y_batch in loader:\n",
    "            X_batch, y_batch = X_batch.to(device), y_batch.to(device)\n",
    "            preds = model(X_batch)\n",
    "            preds = (preds > 0.5).float()\n",
    "            correct += (preds == y_batch).sum().item()\n",
    "            total += torch.numel(y_batch)\n",
    "    print(f\"Accuracy: {correct / total:.4f}\")"
   ]
  },
  {
   "cell_type": "code",
   "execution_count": 13,
   "id": "f226b778",
   "metadata": {},
   "outputs": [
    {
     "ename": "TypeError",
     "evalue": "evaluate() got an unexpected keyword argument 'model'",
     "output_type": "error",
     "traceback": [
      "\u001b[0;31m---------------------------------------------------------------------------\u001b[0m",
      "\u001b[0;31mTypeError\u001b[0m                                 Traceback (most recent call last)",
      "Cell \u001b[0;32mIn[13], line 1\u001b[0m\n\u001b[0;32m----> 1\u001b[0m evaluate(\n\u001b[1;32m      2\u001b[0m     model \u001b[38;5;241m=\u001b[39m model\u001b[38;5;241m.\u001b[39mto(device),\n\u001b[1;32m      3\u001b[0m     data_loader \u001b[38;5;241m=\u001b[39m val_loader,  \n\u001b[1;32m      4\u001b[0m     criterion \u001b[38;5;241m=\u001b[39m criterion,\n\u001b[1;32m      5\u001b[0m     device \u001b[38;5;241m=\u001b[39m device,\n\u001b[1;32m      6\u001b[0m )\n",
      "\u001b[0;31mTypeError\u001b[0m: evaluate() got an unexpected keyword argument 'model'"
     ]
    }
   ],
   "source": [
    "evaluate(\n",
    "    model = model.to(device),\n",
    "    data_loader = val_loader,  \n",
    "    criterion = criterion,\n",
    "    device = device,\n",
    ")"
   ]
  },
  {
   "cell_type": "code",
   "execution_count": 14,
   "id": "6f75805b",
   "metadata": {},
   "outputs": [],
   "source": [
    "history = {\n",
    "    \"train_loss\": [],\n",
    "    \"val_loss\": [],\n",
    "    \"train_acc\": [],\n",
    "    \"val_acc\": [],\n",
    "}"
   ]
  },
  {
   "cell_type": "code",
   "execution_count": 17,
   "id": "1f79bdad",
   "metadata": {},
   "outputs": [
    {
     "name": "stdout",
     "output_type": "stream",
     "text": [
      "Epoch 1/5 | Train Loss: 0.1254, Val Loss: 0.4791, Train Acc: 95.54%, Val Acc: 84.82%\n",
      "Epoch 2/5 | Train Loss: 0.1106, Val Loss: 0.5153, Train Acc: 96.12%, Val Acc: 84.47%\n",
      "Epoch 3/5 | Train Loss: 0.0997, Val Loss: 0.5360, Train Acc: 96.53%, Val Acc: 84.66%\n",
      "Epoch 4/5 | Train Loss: 0.0903, Val Loss: 0.5520, Train Acc: 96.88%, Val Acc: 84.47%\n",
      "Epoch 5/5 | Train Loss: 0.0805, Val Loss: 0.5943, Train Acc: 97.23%, Val Acc: 84.06%\n"
     ]
    }
   ],
   "source": [
    "epochs = 5  # Define the number of epochs\n",
    "for epoch in range(epochs):\n",
    "    model.train()\n",
    "    running_loss = 0\n",
    "    correct, total = 0, 0\n",
    "    for X_batch, y_batch in train_loader:\n",
    "        X_batch, y_batch = X_batch.to(device), y_batch.to(device)\n",
    "        optimizer.zero_grad()\n",
    "        preds = model(X_batch)\n",
    "        loss = criterion(preds, y_batch)\n",
    "        loss.backward()\n",
    "        optimizer.step()\n",
    "        running_loss += loss.item()\n",
    "        \n",
    "        # Accuracy\n",
    "        predicted = (preds > 0.5).float()\n",
    "        correct += (predicted == y_batch).sum().item()\n",
    "        total += torch.numel(y_batch)\n",
    "\n",
    "    train_loss = running_loss / len(train_loader)\n",
    "    train_acc = correct / total * 100\n",
    "\n",
    "    # Validation\n",
    "    model.eval()\n",
    "    val_loss, val_correct, val_total = 0, 0, 0\n",
    "    with torch.no_grad():\n",
    "        for X_batch, y_batch in val_loader:\n",
    "            X_batch, y_batch = X_batch.to(device), y_batch.to(device)\n",
    "            preds = model(X_batch)\n",
    "            loss = criterion(preds, y_batch)\n",
    "            val_loss += loss.item()\n",
    "            predicted = (preds > 0.5).float()\n",
    "            val_correct += (predicted == y_batch).sum().item()\n",
    "            val_total += torch.numel(y_batch)\n",
    "\n",
    "    val_loss /= len(val_loader)\n",
    "    val_acc = val_correct / val_total * 100\n",
    "\n",
    "    # Record history\n",
    "    history[\"train_loss\"].append(train_loss)\n",
    "    history[\"val_loss\"].append(val_loss)\n",
    "    history[\"train_acc\"].append(train_acc)\n",
    "    history[\"val_acc\"].append(val_acc)\n",
    "\n",
    "    print(f\"Epoch {epoch+1}/{epochs} | Train Loss: {train_loss:.4f}, Val Loss: {val_loss:.4f}, Train Acc: {train_acc:.2f}%, Val Acc: {val_acc:.2f}%\")\n"
   ]
  },
  {
   "cell_type": "code",
   "execution_count": 18,
   "id": "78f94204",
   "metadata": {},
   "outputs": [
    {
     "data": {
      "image/png": "[encoded data removed]",
      "text/plain": [
       "<Figure size 1200x600 with 2 Axes>"
      ]
     },
     "metadata": {},
     "output_type": "display_data"
    }
   ],
   "source": [
    "def plot_training_history(history):\n",
    "    epochs = range(1, len(history[\"train_loss\"]) + 1)\n",
    "\n",
    "    plt.figure(figsize=(12, 6))\n",
    "    plt.subplot(1, 2, 1)\n",
    "    plt.plot(epochs, history[\"train_loss\"], label=\"Train Loss\", marker=\"o\")\n",
    "    plt.plot(epochs, history[\"val_loss\"], label=\"Validation Loss\", marker=\"o\")\n",
    "    plt.xlabel(\"Epoch\")\n",
    "    plt.ylabel(\"Loss\")\n",
    "    plt.title(\"Training and Validation Loss\")\n",
    "    plt.legend()\n",
    "    plt.grid(True)\n",
    "\n",
    "    plt.subplot(1, 2, 2)\n",
    "    plt.plot(epochs, history[\"train_acc\"], label=\"Train Accuracy\", marker=\"o\")\n",
    "    plt.plot(epochs, history[\"val_acc\"], label=\"Validation Accuracy\", marker=\"o\")\n",
    "    plt.xlabel(\"Epoch\")\n",
    "    plt.ylabel(\"Accuracy (%)\")\n",
    "    plt.title(\"Training and Validation Accuracy\")\n",
    "    plt.legend()\n",
    "    plt.grid(True)\n",
    "\n",
    "    plt.tight_layout()\n",
    "    plt.show()\n",
    "\n",
    "plot_training_history(history)\n"
   ]
  },
  {
   "cell_type": "code",
   "execution_count": 19,
   "id": "b85ba6c6",
   "metadata": {},
   "outputs": [
    {
     "name": "stdout",
     "output_type": "stream",
     "text": [
      "Test:\n",
      "Accuracy: 0.8396\n"
     ]
    }
   ],
   "source": [
    "print(\"Test:\")\n",
    "evaluate(test_loader)"
   ]
  },
  {
   "cell_type": "code",
   "execution_count": 20,
   "id": "939c1b68",
   "metadata": {},
   "outputs": [
    {
     "name": "stdout",
     "output_type": "stream",
     "text": [
      "\n",
      "Classification Report (Multi-label):\n",
      "              precision    recall  f1-score   support\n",
      "\n",
      "       anger       0.28      0.34      0.31      1635\n",
      "     disgust       0.14      0.07      0.10       281\n",
      "        fear       0.36      0.11      0.16       257\n",
      "         joy       0.65      0.64      0.64      4622\n",
      "     neutral       0.40      0.30      0.34      3046\n",
      "     sadness       0.45      0.27      0.33      1042\n",
      "    surprise       0.39      0.33      0.36      1638\n",
      "\n",
      "   micro avg       0.48      0.42      0.45     12521\n",
      "   macro avg       0.38      0.29      0.32     12521\n",
      "weighted avg       0.47      0.42      0.44     12521\n",
      " samples avg       0.43      0.43      0.42     12521\n",
      "\n"
     ]
    }
   ],
   "source": [
    "from sklearn.metrics import classification_report\n",
    "\n",
    "model.eval()\n",
    "all_labels = []\n",
    "all_preds = []\n",
    "\n",
    "with torch.no_grad():\n",
    "    for X_batch, y_batch in test_loader:\n",
    "        X_batch, y_batch = X_batch.to(device), y_batch.to(device)\n",
    "        outputs = model(X_batch)\n",
    "        preds = (outputs > 0.5).float()\n",
    "\n",
    "        all_labels.extend(y_batch.cpu().numpy())\n",
    "        all_preds.extend(preds.cpu().numpy())\n",
    "\n",
    "# Convert to arrays\n",
    "all_labels = np.array(all_labels)\n",
    "all_preds = np.array(all_preds)\n",
    "\n",
    "# Emotion class names in order\n",
    "class_names = ['anger', 'disgust', 'fear', 'joy', 'neutral', 'sadness', 'surprise']\n",
    "\n",
    "# Print classification report\n",
    "print(\"\\nClassification Report (Multi-label):\")\n",
    "print(classification_report(all_labels, all_preds, target_names=class_names, zero_division=0))\n"
   ]
  },
  {
   "cell_type": "code",
   "execution_count": 21,
   "id": "c4703f16",
   "metadata": {},
   "outputs": [
    {
     "name": "stdout",
     "output_type": "stream",
     "text": [
      "\n",
      "Classification Report (Multi-label):\n",
      "              precision    recall  f1-score   support\n",
      "\n",
      "       anger       0.28      0.34      0.31      1635\n",
      "     disgust       0.14      0.07      0.10       281\n",
      "        fear       0.36      0.11      0.16       257\n",
      "         joy       0.65      0.64      0.64      4622\n",
      "     neutral       0.40      0.30      0.34      3046\n",
      "     sadness       0.45      0.27      0.33      1042\n",
      "    surprise       0.39      0.33      0.36      1638\n",
      "\n",
      "   micro avg       0.48      0.42      0.45     12521\n",
      "   macro avg       0.38      0.29      0.32     12521\n",
      "weighted avg       0.47      0.42      0.44     12521\n",
      " samples avg       0.43      0.43      0.42     12521\n",
      "\n"
     ]
    }
   ],
   "source": [
    "import numpy as np\n",
    "from sklearn.metrics import classification_report\n",
    "\n",
    "model.eval()\n",
    "all_labels = []\n",
    "all_preds = []\n",
    "\n",
    "with torch.no_grad():\n",
    "    for X_batch, y_batch in test_loader:\n",
    "        X_batch, y_batch = X_batch.to(device), y_batch.to(device)\n",
    "        outputs = model(X_batch)\n",
    "        preds = (outputs > 0.5).float()\n",
    "        all_labels.extend(y_batch.cpu().numpy())\n",
    "        all_preds.extend(preds.cpu().numpy())\n",
    "\n",
    "all_labels = np.array(all_labels)\n",
    "all_preds = np.array(all_preds)\n",
    "\n",
    "class_names = ['anger', 'disgust', 'fear', 'joy', 'neutral', 'sadness', 'surprise']\n",
    "\n",
    "print(\"\\nClassification Report (Multi-label):\")\n",
    "print(classification_report(all_labels, all_preds, target_names=class_names, zero_division=0))\n"
   ]
  },
  {
   "cell_type": "markdown",
   "id": "95c0ec8f",
   "metadata": {},
   "source": [
    "# Hyperparameter tuning"
   ]
  },
  {
   "cell_type": "code",
   "execution_count": 29,
   "id": "7edc636c",
   "metadata": {},
   "outputs": [],
   "source": [
    "def run_grid_search(df_train_ekman, df_val_ekman, vocab):\n",
    "\n",
    "    device = torch.device(\"cuda\" if torch.cuda.is_available() else \"cpu\")\n",
    "    best_config = None\n",
    "    best_val_acc = 0\n",
    "    best_history = None\n",
    "    best_model = None\n",
    "\n",
    "    # Hyperparameter grid\n",
    "    hidden_dims = [64, 128]\n",
    "    batch_sizes = [16, 32]\n",
    "    epochs_list = [3, 10]\n",
    "\n",
    "    for hidden_dim, batch_size, epochs in tqdm(product(hidden_dims, batch_sizes, epochs_list), total=8):\n",
    "        print(f\"\\nTraining: hidden_dim={hidden_dim}, batch_size={batch_size}, epochs={epochs}\")\n",
    "\n",
    "        train_loader = DataLoader(EmotionDataset(df_train_ekman), batch_size=batch_size, shuffle=True, collate_fn=collate_fn)\n",
    "        val_loader = DataLoader(EmotionDataset(df_val_ekman), batch_size=batch_size, collate_fn=collate_fn)\n",
    "\n",
    "        model = EmotionLSTM(len(vocab), embed_dim=100, hidden_dim=hidden_dim, output_dim=7).to(device)\n",
    "        criterion = nn.BCELoss()\n",
    "        optimizer = optim.Adam(model.parameters(), lr=0.01)\n",
    "\n",
    "        history = {\"train_loss\": [], \"val_loss\": [], \"train_acc\": [], \"val_acc\": []}\n",
    "\n",
    "        for epoch in range(epochs):\n",
    "            model.train()\n",
    "            total_loss = 0\n",
    "            correct, total = 0, 0\n",
    "            for X_batch, y_batch in train_loader:\n",
    "                X_batch, y_batch = X_batch.to(device), y_batch.to(device)\n",
    "                optimizer.zero_grad()\n",
    "                preds = model(X_batch)\n",
    "                loss = criterion(preds, y_batch)\n",
    "                loss.backward()\n",
    "                optimizer.step()\n",
    "                total_loss += loss.item()\n",
    "                predicted = (preds > 0.5).float()\n",
    "                correct += (predicted == y_batch).sum().item()\n",
    "                total += torch.numel(y_batch)\n",
    "\n",
    "            train_loss = total_loss / len(train_loader)\n",
    "            train_acc = correct / total * 100\n",
    "\n",
    "            model.eval()\n",
    "            val_loss, val_correct, val_total = 0, 0, 0\n",
    "            with torch.no_grad():\n",
    "                for X_batch, y_batch in val_loader:\n",
    "                    X_batch, y_batch = X_batch.to(device), y_batch.to(device)\n",
    "                    preds = model(X_batch)\n",
    "                    val_loss += criterion(preds, y_batch).item()\n",
    "                    predicted = (preds > 0.5).float()\n",
    "                    val_correct += (predicted == y_batch).sum().item()\n",
    "                    val_total += torch.numel(y_batch)\n",
    "\n",
    "            val_loss /= len(val_loader)\n",
    "            val_acc = val_correct / val_total * 100\n",
    "\n",
    "            history[\"train_loss\"].append(train_loss)\n",
    "            history[\"val_loss\"].append(val_loss)\n",
    "            history[\"train_acc\"].append(train_acc)\n",
    "            history[\"val_acc\"].append(val_acc)\n",
    "\n",
    "            print(f\"Epoch {epoch+1}/{epochs} | Train Loss: {train_loss:.4f}, Val Loss: {val_loss:.4f}, Train Acc: {train_acc:.2f}%, Val Acc: {val_acc:.2f}%\")\n",
    "\n",
    "        if val_acc > best_val_acc:\n",
    "            best_val_acc = val_acc\n",
    "            best_config = (hidden_dim, batch_size, epochs)\n",
    "            best_history = {\n",
    "                \"train_loss\": history[\"train_loss\"].copy(),\n",
    "                \"val_loss\": history[\"val_loss\"].copy(),\n",
    "                \"train_acc\": history[\"train_acc\"].copy(),\n",
    "                \"val_acc\": history[\"val_acc\"].copy()\n",
    "            }\n",
    "            best_model = model\n",
    "\n",
    "    print(\"\\n✅ Best configuration:\")\n",
    "    print(f\"Hidden Dim: {best_config[0]}, Batch Size: {best_config[1]}, Epochs: {best_config[2]}\")\n",
    "    print(f\"Validation Accuracy: {best_val_acc:.2f}%\")\n",
    "\n",
    "    return best_config, best_history, best_model\n"
   ]
  },
  {
   "cell_type": "code",
   "execution_count": 30,
   "id": "5bcf9c42",
   "metadata": {},
   "outputs": [
    {
     "name": "stderr",
     "output_type": "stream",
     "text": [
      "  0%|          | 0/8 [00:00<?, ?it/s]"
     ]
    },
    {
     "name": "stdout",
     "output_type": "stream",
     "text": [
      "\n",
      "Training: hidden_dim=64, batch_size=16, epochs=3\n",
      "Epoch 1/3 | Train Loss: 0.3585, Val Loss: 0.3446, Train Acc: 85.27%, Val Acc: 86.00%\n",
      "Epoch 2/3 | Train Loss: 0.3383, Val Loss: 0.3417, Train Acc: 86.43%, Val Acc: 86.23%\n"
     ]
    },
    {
     "name": "stderr",
     "output_type": "stream",
     "text": [
      " 12%|█▎        | 1/8 [00:58<06:46, 58.13s/it]"
     ]
    },
    {
     "name": "stdout",
     "output_type": "stream",
     "text": [
      "Epoch 3/3 | Train Loss: 0.3272, Val Loss: 0.3393, Train Acc: 86.90%, Val Acc: 86.29%\n",
      "\n",
      "Training: hidden_dim=64, batch_size=16, epochs=10\n",
      "Epoch 1/10 | Train Loss: 0.3638, Val Loss: 0.3556, Train Acc: 84.74%, Val Acc: 85.53%\n",
      "Epoch 2/10 | Train Loss: 0.3461, Val Loss: 0.3453, Train Acc: 85.95%, Val Acc: 85.94%\n",
      "Epoch 3/10 | Train Loss: 0.3355, Val Loss: 0.3434, Train Acc: 86.54%, Val Acc: 86.11%\n",
      "Epoch 4/10 | Train Loss: 0.3255, Val Loss: 0.3425, Train Acc: 86.97%, Val Acc: 86.26%\n",
      "Epoch 5/10 | Train Loss: 0.3183, Val Loss: 0.3458, Train Acc: 87.27%, Val Acc: 86.16%\n",
      "Epoch 6/10 | Train Loss: 0.3140, Val Loss: 0.3499, Train Acc: 87.45%, Val Acc: 85.85%\n",
      "Epoch 7/10 | Train Loss: 0.3089, Val Loss: 0.3507, Train Acc: 87.68%, Val Acc: 86.03%\n",
      "Epoch 8/10 | Train Loss: 0.3061, Val Loss: 0.3488, Train Acc: 87.76%, Val Acc: 86.10%\n",
      "Epoch 9/10 | Train Loss: 0.2998, Val Loss: 0.3537, Train Acc: 88.09%, Val Acc: 86.06%\n"
     ]
    },
    {
     "name": "stderr",
     "output_type": "stream",
     "text": [
      " 25%|██▌       | 2/8 [04:24<14:32, 145.35s/it]"
     ]
    },
    {
     "name": "stdout",
     "output_type": "stream",
     "text": [
      "Epoch 10/10 | Train Loss: 0.2968, Val Loss: 0.3545, Train Acc: 88.26%, Val Acc: 85.93%\n",
      "\n",
      "Training: hidden_dim=64, batch_size=32, epochs=3\n",
      "Epoch 1/3 | Train Loss: 0.3627, Val Loss: 0.3476, Train Acc: 84.91%, Val Acc: 85.90%\n",
      "Epoch 2/3 | Train Loss: 0.3368, Val Loss: 0.3382, Train Acc: 86.47%, Val Acc: 86.40%\n"
     ]
    },
    {
     "name": "stderr",
     "output_type": "stream",
     "text": [
      " 38%|███▊      | 3/8 [05:00<07:56, 95.24s/it] "
     ]
    },
    {
     "name": "stdout",
     "output_type": "stream",
     "text": [
      "Epoch 3/3 | Train Loss: 0.3224, Val Loss: 0.3337, Train Acc: 87.06%, Val Acc: 86.53%\n",
      "\n",
      "Training: hidden_dim=64, batch_size=32, epochs=10\n",
      "Epoch 1/10 | Train Loss: 0.3600, Val Loss: 0.3481, Train Acc: 85.38%, Val Acc: 86.10%\n",
      "Epoch 2/10 | Train Loss: 0.3387, Val Loss: 0.3371, Train Acc: 86.47%, Val Acc: 86.51%\n",
      "Epoch 3/10 | Train Loss: 0.3277, Val Loss: 0.3388, Train Acc: 86.83%, Val Acc: 86.26%\n",
      "Epoch 4/10 | Train Loss: 0.3161, Val Loss: 0.3373, Train Acc: 87.29%, Val Acc: 86.42%\n",
      "Epoch 5/10 | Train Loss: 0.3042, Val Loss: 0.3420, Train Acc: 87.88%, Val Acc: 86.25%\n",
      "Epoch 6/10 | Train Loss: 0.2944, Val Loss: 0.3466, Train Acc: 88.36%, Val Acc: 85.97%\n",
      "Epoch 7/10 | Train Loss: 0.2857, Val Loss: 0.3550, Train Acc: 88.72%, Val Acc: 85.78%\n",
      "Epoch 8/10 | Train Loss: 0.2771, Val Loss: 0.3583, Train Acc: 89.16%, Val Acc: 85.62%\n",
      "Epoch 9/10 | Train Loss: 0.2699, Val Loss: 0.3586, Train Acc: 89.45%, Val Acc: 85.60%\n"
     ]
    },
    {
     "name": "stderr",
     "output_type": "stream",
     "text": [
      " 50%|█████     | 4/8 [06:53<06:49, 102.48s/it]"
     ]
    },
    {
     "name": "stdout",
     "output_type": "stream",
     "text": [
      "Epoch 10/10 | Train Loss: 0.2639, Val Loss: 0.3637, Train Acc: 89.71%, Val Acc: 85.71%\n",
      "\n",
      "Training: hidden_dim=128, batch_size=16, epochs=3\n",
      "Epoch 1/3 | Train Loss: 0.3589, Val Loss: 0.3466, Train Acc: 85.15%, Val Acc: 86.04%\n",
      "Epoch 2/3 | Train Loss: 0.3364, Val Loss: 0.3370, Train Acc: 86.56%, Val Acc: 86.42%\n"
     ]
    },
    {
     "name": "stderr",
     "output_type": "stream",
     "text": [
      " 62%|██████▎   | 5/8 [08:06<04:35, 91.73s/it] "
     ]
    },
    {
     "name": "stdout",
     "output_type": "stream",
     "text": [
      "Epoch 3/3 | Train Loss: 0.3247, Val Loss: 0.3342, Train Acc: 87.00%, Val Acc: 86.63%\n",
      "\n",
      "Training: hidden_dim=128, batch_size=16, epochs=10\n",
      "Epoch 1/10 | Train Loss: 0.3625, Val Loss: 0.3516, Train Acc: 84.89%, Val Acc: 85.64%\n",
      "Epoch 2/10 | Train Loss: 0.3475, Val Loss: 0.3508, Train Acc: 86.00%, Val Acc: 85.78%\n",
      "Epoch 3/10 | Train Loss: 0.3346, Val Loss: 0.3476, Train Acc: 86.52%, Val Acc: 85.96%\n",
      "Epoch 4/10 | Train Loss: 0.3277, Val Loss: 0.3463, Train Acc: 86.87%, Val Acc: 85.89%\n",
      "Epoch 5/10 | Train Loss: 0.3228, Val Loss: 0.3449, Train Acc: 87.05%, Val Acc: 86.13%\n",
      "Epoch 6/10 | Train Loss: 0.3175, Val Loss: 0.3476, Train Acc: 87.25%, Val Acc: 86.04%\n",
      "Epoch 7/10 | Train Loss: 0.3128, Val Loss: 0.3493, Train Acc: 87.53%, Val Acc: 85.71%\n",
      "Epoch 8/10 | Train Loss: 0.3096, Val Loss: 0.3544, Train Acc: 87.70%, Val Acc: 85.82%\n",
      "Epoch 9/10 | Train Loss: 0.3064, Val Loss: 0.3527, Train Acc: 87.81%, Val Acc: 85.61%\n"
     ]
    },
    {
     "name": "stderr",
     "output_type": "stream",
     "text": [
      " 75%|███████▌  | 6/8 [12:13<04:48, 144.42s/it]"
     ]
    },
    {
     "name": "stdout",
     "output_type": "stream",
     "text": [
      "Epoch 10/10 | Train Loss: 0.3047, Val Loss: 0.3528, Train Acc: 87.93%, Val Acc: 85.74%\n",
      "\n",
      "Training: hidden_dim=128, batch_size=32, epochs=3\n",
      "Epoch 1/3 | Train Loss: 0.3644, Val Loss: 0.3516, Train Acc: 84.73%, Val Acc: 85.67%\n",
      "Epoch 2/3 | Train Loss: 0.3425, Val Loss: 0.3393, Train Acc: 86.13%, Val Acc: 86.33%\n"
     ]
    },
    {
     "name": "stderr",
     "output_type": "stream",
     "text": [
      " 88%|████████▊ | 7/8 [13:13<01:57, 117.10s/it]"
     ]
    },
    {
     "name": "stdout",
     "output_type": "stream",
     "text": [
      "Epoch 3/3 | Train Loss: 0.3261, Val Loss: 0.3328, Train Acc: 86.89%, Val Acc: 86.54%\n",
      "\n",
      "Training: hidden_dim=128, batch_size=32, epochs=10\n",
      "Epoch 1/10 | Train Loss: 0.3679, Val Loss: 0.3586, Train Acc: 84.68%, Val Acc: 85.44%\n",
      "Epoch 2/10 | Train Loss: 0.3437, Val Loss: 0.3352, Train Acc: 86.18%, Val Acc: 86.62%\n",
      "Epoch 3/10 | Train Loss: 0.3234, Val Loss: 0.3312, Train Acc: 87.12%, Val Acc: 86.73%\n",
      "Epoch 4/10 | Train Loss: 0.3106, Val Loss: 0.3272, Train Acc: 87.56%, Val Acc: 86.80%\n",
      "Epoch 5/10 | Train Loss: 0.3002, Val Loss: 0.3317, Train Acc: 87.91%, Val Acc: 86.64%\n",
      "Epoch 6/10 | Train Loss: 0.2905, Val Loss: 0.3388, Train Acc: 88.33%, Val Acc: 86.23%\n",
      "Epoch 7/10 | Train Loss: 0.2819, Val Loss: 0.3422, Train Acc: 88.72%, Val Acc: 86.21%\n",
      "Epoch 8/10 | Train Loss: 0.2733, Val Loss: 0.3477, Train Acc: 89.06%, Val Acc: 85.70%\n",
      "Epoch 9/10 | Train Loss: 0.2661, Val Loss: 0.3490, Train Acc: 89.36%, Val Acc: 86.13%\n"
     ]
    },
    {
     "name": "stderr",
     "output_type": "stream",
     "text": [
      "100%|██████████| 8/8 [16:26<00:00, 123.25s/it]"
     ]
    },
    {
     "name": "stdout",
     "output_type": "stream",
     "text": [
      "Epoch 10/10 | Train Loss: 0.2597, Val Loss: 0.3518, Train Acc: 89.67%, Val Acc: 86.05%\n",
      "\n",
      "✅ Best configuration:\n",
      "Hidden Dim: 128, Batch Size: 16, Epochs: 3\n",
      "Validation Accuracy: 86.63%\n"
     ]
    },
    {
     "name": "stderr",
     "output_type": "stream",
     "text": [
      "\n"
     ]
    },
    {
     "data": {
      "text/plain": [
       "((128, 16, 3),\n",
       " {'train_loss': [0.3589162544551678, 0.3363604684211916, 0.32468760512579947],\n",
       "  'val_loss': [0.3465562712328916, 0.33695102169325475, 0.3341888343899864],\n",
       "  'train_acc': [85.14595860862967, 86.56141479630134, 86.99982677983718],\n",
       "  'val_acc': [86.04461270088706, 86.41700379814175, 86.62856153113363]},\n",
       " EmotionLSTM(\n",
       "   (embedding): Embedding(25935, 100, padding_idx=0)\n",
       "   (lstm): LSTM(100, 128, batch_first=True)\n",
       "   (fc): Linear(in_features=128, out_features=7, bias=True)\n",
       "   (sigmoid): Sigmoid()\n",
       " ))"
      ]
     },
     "execution_count": 30,
     "metadata": {},
     "output_type": "execute_result"
    }
   ],
   "source": [
    "run_grid_search(df_train_ekman, df_val_ekman, vocab)\n",
    "\n"
   ]
  },
  {
   "cell_type": "code",
   "execution_count": 27,
   "id": "528fceb9",
   "metadata": {},
   "outputs": [
    {
     "name": "stderr",
     "output_type": "stream",
     "text": [
      "  0%|          | 0/8 [00:00<?, ?it/s]"
     ]
    },
    {
     "name": "stdout",
     "output_type": "stream",
     "text": [
      "\n",
      "Training: hidden_dim=64, batch_size=16, epochs=3\n",
      "Epoch 1/3 | Train Loss: 0.3653, Val Loss: 0.3403, Train Acc: 84.89%, Val Acc: 86.60%\n",
      "Epoch 2/3 | Train Loss: 0.3259, Val Loss: 0.3230, Train Acc: 87.08%, Val Acc: 86.99%\n"
     ]
    },
    {
     "name": "stderr",
     "output_type": "stream",
     "text": [
      " 12%|█▎        | 1/8 [00:59<06:54, 59.22s/it]"
     ]
    },
    {
     "name": "stdout",
     "output_type": "stream",
     "text": [
      "Epoch 3/3 | Train Loss: 0.3064, Val Loss: 0.3154, Train Acc: 87.69%, Val Acc: 87.17%\n",
      "\n",
      "Training: hidden_dim=64, batch_size=16, epochs=5\n",
      "Epoch 1/5 | Train Loss: 0.3655, Val Loss: 0.3426, Train Acc: 84.85%, Val Acc: 86.15%\n",
      "Epoch 2/5 | Train Loss: 0.3195, Val Loss: 0.3154, Train Acc: 87.06%, Val Acc: 87.09%\n",
      "Epoch 3/5 | Train Loss: 0.2938, Val Loss: 0.3069, Train Acc: 87.91%, Val Acc: 87.26%\n",
      "Epoch 4/5 | Train Loss: 0.2704, Val Loss: 0.3116, Train Acc: 89.05%, Val Acc: 86.94%\n"
     ]
    },
    {
     "name": "stderr",
     "output_type": "stream",
     "text": [
      " 25%|██▌       | 2/8 [02:35<08:04, 80.81s/it]"
     ]
    },
    {
     "name": "stdout",
     "output_type": "stream",
     "text": [
      "Epoch 5/5 | Train Loss: 0.2466, Val Loss: 0.3218, Train Acc: 90.14%, Val Acc: 86.77%\n",
      "\n",
      "Training: hidden_dim=64, batch_size=32, epochs=3\n",
      "Epoch 1/3 | Train Loss: 0.3737, Val Loss: 0.3670, Train Acc: 84.46%, Val Acc: 84.61%\n",
      "Epoch 2/3 | Train Loss: 0.3512, Val Loss: 0.3305, Train Acc: 85.67%, Val Acc: 86.78%\n"
     ]
    },
    {
     "name": "stderr",
     "output_type": "stream",
     "text": [
      " 38%|███▊      | 3/8 [03:11<05:03, 60.62s/it]"
     ]
    },
    {
     "name": "stdout",
     "output_type": "stream",
     "text": [
      "Epoch 3/3 | Train Loss: 0.3164, Val Loss: 0.3186, Train Acc: 87.31%, Val Acc: 87.13%\n",
      "\n",
      "Training: hidden_dim=64, batch_size=32, epochs=5\n",
      "Epoch 1/5 | Train Loss: 0.3734, Val Loss: 0.3653, Train Acc: 84.45%, Val Acc: 84.62%\n",
      "Epoch 2/5 | Train Loss: 0.3350, Val Loss: 0.3219, Train Acc: 86.48%, Val Acc: 87.10%\n",
      "Epoch 3/5 | Train Loss: 0.3074, Val Loss: 0.3126, Train Acc: 87.57%, Val Acc: 87.20%\n",
      "Epoch 4/5 | Train Loss: 0.2861, Val Loss: 0.3103, Train Acc: 88.39%, Val Acc: 87.04%\n"
     ]
    },
    {
     "name": "stderr",
     "output_type": "stream",
     "text": [
      " 50%|█████     | 4/8 [04:10<03:59, 59.81s/it]"
     ]
    },
    {
     "name": "stdout",
     "output_type": "stream",
     "text": [
      "Epoch 5/5 | Train Loss: 0.2643, Val Loss: 0.3208, Train Acc: 89.37%, Val Acc: 86.92%\n",
      "\n",
      "Training: hidden_dim=128, batch_size=16, epochs=3\n",
      "Epoch 1/3 | Train Loss: 0.3604, Val Loss: 0.3330, Train Acc: 85.12%, Val Acc: 86.56%\n",
      "Epoch 2/3 | Train Loss: 0.3208, Val Loss: 0.3227, Train Acc: 87.16%, Val Acc: 86.84%\n"
     ]
    },
    {
     "name": "stderr",
     "output_type": "stream",
     "text": [
      " 62%|██████▎   | 5/8 [05:26<03:16, 65.55s/it]"
     ]
    },
    {
     "name": "stdout",
     "output_type": "stream",
     "text": [
      "Epoch 3/3 | Train Loss: 0.2990, Val Loss: 0.3102, Train Acc: 87.89%, Val Acc: 87.23%\n",
      "\n",
      "Training: hidden_dim=128, batch_size=16, epochs=5\n",
      "Epoch 1/5 | Train Loss: 0.3602, Val Loss: 0.3289, Train Acc: 85.13%, Val Acc: 86.79%\n",
      "Epoch 2/5 | Train Loss: 0.3165, Val Loss: 0.3128, Train Acc: 87.25%, Val Acc: 87.19%\n",
      "Epoch 3/5 | Train Loss: 0.2933, Val Loss: 0.3055, Train Acc: 87.98%, Val Acc: 87.26%\n",
      "Epoch 4/5 | Train Loss: 0.2682, Val Loss: 0.3098, Train Acc: 89.10%, Val Acc: 87.18%\n"
     ]
    },
    {
     "name": "stderr",
     "output_type": "stream",
     "text": [
      " 75%|███████▌  | 6/8 [07:45<03:01, 90.85s/it]"
     ]
    },
    {
     "name": "stdout",
     "output_type": "stream",
     "text": [
      "Epoch 5/5 | Train Loss: 0.2410, Val Loss: 0.3212, Train Acc: 90.40%, Val Acc: 86.78%\n",
      "\n",
      "Training: hidden_dim=128, batch_size=32, epochs=3\n",
      "Epoch 1/3 | Train Loss: 0.3719, Val Loss: 0.3672, Train Acc: 84.43%, Val Acc: 84.61%\n",
      "Epoch 2/3 | Train Loss: 0.3405, Val Loss: 0.3231, Train Acc: 86.28%, Val Acc: 87.01%\n"
     ]
    },
    {
     "name": "stderr",
     "output_type": "stream",
     "text": [
      " 88%|████████▊ | 7/8 [08:45<01:20, 80.47s/it]"
     ]
    },
    {
     "name": "stdout",
     "output_type": "stream",
     "text": [
      "Epoch 3/3 | Train Loss: 0.3092, Val Loss: 0.3111, Train Acc: 87.50%, Val Acc: 87.16%\n",
      "\n",
      "Training: hidden_dim=128, batch_size=32, epochs=5\n",
      "Epoch 1/5 | Train Loss: 0.3717, Val Loss: 0.3686, Train Acc: 84.57%, Val Acc: 84.62%\n",
      "Epoch 2/5 | Train Loss: 0.3403, Val Loss: 0.3219, Train Acc: 86.27%, Val Acc: 87.10%\n",
      "Epoch 3/5 | Train Loss: 0.3089, Val Loss: 0.3107, Train Acc: 87.54%, Val Acc: 87.28%\n",
      "Epoch 4/5 | Train Loss: 0.2858, Val Loss: 0.3099, Train Acc: 88.32%, Val Acc: 87.35%\n"
     ]
    },
    {
     "name": "stderr",
     "output_type": "stream",
     "text": [
      "100%|██████████| 8/8 [10:19<00:00, 77.47s/it]"
     ]
    },
    {
     "name": "stdout",
     "output_type": "stream",
     "text": [
      "Epoch 5/5 | Train Loss: 0.2618, Val Loss: 0.3117, Train Acc: 89.42%, Val Acc: 87.17%\n",
      "\n",
      "✅ Best configuration:\n",
      "Hidden Dim: 128, Batch Size: 16, Epochs: 3\n",
      "Validation Accuracy: 87.23%\n"
     ]
    },
    {
     "name": "stderr",
     "output_type": "stream",
     "text": [
      "\n"
     ]
    },
    {
     "data": {
      "image/png": "[encoded data removed]",
      "text/plain": [
       "<Figure size 1200x600 with 2 Axes>"
      ]
     },
     "metadata": {},
     "output_type": "display_data"
    }
   ],
   "source": [
    "best_config, best_history, best_model = run_grid_search(df_train_ekman, df_val_ekman, vocab)\n",
    "plot_training_history(best_history)\n",
    "\n"
   ]
  },
  {
   "cell_type": "code",
   "execution_count": 28,
   "id": "2bf23640",
   "metadata": {},
   "outputs": [
    {
     "name": "stderr",
     "output_type": "stream",
     "text": [
      "  0%|          | 0/8 [00:00<?, ?it/s]"
     ]
    },
    {
     "name": "stdout",
     "output_type": "stream",
     "text": [
      "\n",
      "Training: hidden_dim=64, batch_size=16, epochs=3\n",
      "Epoch 1/3 | Train Loss: 0.3672, Val Loss: 0.3408, Train Acc: 84.68%, Val Acc: 86.43%\n",
      "Epoch 2/3 | Train Loss: 0.3239, Val Loss: 0.3180, Train Acc: 87.07%, Val Acc: 87.22%\n"
     ]
    },
    {
     "name": "stderr",
     "output_type": "stream",
     "text": [
      " 12%|█▎        | 1/8 [01:04<07:30, 64.38s/it]"
     ]
    },
    {
     "name": "stdout",
     "output_type": "stream",
     "text": [
      "Epoch 3/3 | Train Loss: 0.3009, Val Loss: 0.3115, Train Acc: 87.86%, Val Acc: 87.31%\n",
      "\n",
      "Training: hidden_dim=64, batch_size=16, epochs=5\n",
      "Epoch 1/5 | Train Loss: 0.3653, Val Loss: 0.3379, Train Acc: 84.84%, Val Acc: 86.33%\n",
      "Epoch 2/5 | Train Loss: 0.3223, Val Loss: 0.3174, Train Acc: 87.11%, Val Acc: 87.19%\n",
      "Epoch 3/5 | Train Loss: 0.2995, Val Loss: 0.3121, Train Acc: 87.89%, Val Acc: 87.26%\n",
      "Epoch 4/5 | Train Loss: 0.2767, Val Loss: 0.3100, Train Acc: 88.81%, Val Acc: 87.08%\n"
     ]
    },
    {
     "name": "stderr",
     "output_type": "stream",
     "text": [
      " 25%|██▌       | 2/8 [02:42<08:23, 83.97s/it]"
     ]
    },
    {
     "name": "stdout",
     "output_type": "stream",
     "text": [
      "Epoch 5/5 | Train Loss: 0.2516, Val Loss: 0.3258, Train Acc: 89.99%, Val Acc: 86.77%\n",
      "\n",
      "Training: hidden_dim=64, batch_size=32, epochs=3\n",
      "Epoch 1/3 | Train Loss: 0.3737, Val Loss: 0.3647, Train Acc: 84.21%, Val Acc: 84.62%\n",
      "Epoch 2/3 | Train Loss: 0.3403, Val Loss: 0.3313, Train Acc: 86.16%, Val Acc: 86.67%\n"
     ]
    },
    {
     "name": "stderr",
     "output_type": "stream",
     "text": [
      " 38%|███▊      | 3/8 [03:20<05:15, 63.18s/it]"
     ]
    },
    {
     "name": "stdout",
     "output_type": "stream",
     "text": [
      "Epoch 3/3 | Train Loss: 0.3106, Val Loss: 0.3287, Train Acc: 87.47%, Val Acc: 86.53%\n",
      "\n",
      "Training: hidden_dim=64, batch_size=32, epochs=5\n",
      "Epoch 1/5 | Train Loss: 0.3716, Val Loss: 0.3549, Train Acc: 84.32%, Val Acc: 85.55%\n",
      "Epoch 2/5 | Train Loss: 0.3348, Val Loss: 0.3244, Train Acc: 86.65%, Val Acc: 87.10%\n",
      "Epoch 3/5 | Train Loss: 0.3116, Val Loss: 0.3180, Train Acc: 87.54%, Val Acc: 87.08%\n",
      "Epoch 4/5 | Train Loss: 0.2933, Val Loss: 0.3185, Train Acc: 88.21%, Val Acc: 86.88%\n"
     ]
    },
    {
     "name": "stderr",
     "output_type": "stream",
     "text": [
      " 50%|█████     | 4/8 [04:21<04:09, 62.30s/it]"
     ]
    },
    {
     "name": "stdout",
     "output_type": "stream",
     "text": [
      "Epoch 5/5 | Train Loss: 0.2738, Val Loss: 0.3197, Train Acc: 89.00%, Val Acc: 86.89%\n",
      "\n",
      "Training: hidden_dim=128, batch_size=16, epochs=3\n",
      "Epoch 1/3 | Train Loss: 0.3625, Val Loss: 0.3394, Train Acc: 84.98%, Val Acc: 86.22%\n",
      "Epoch 2/3 | Train Loss: 0.3187, Val Loss: 0.3173, Train Acc: 87.14%, Val Acc: 87.10%\n"
     ]
    },
    {
     "name": "stderr",
     "output_type": "stream",
     "text": [
      " 62%|██████▎   | 5/8 [05:42<03:26, 68.98s/it]"
     ]
    },
    {
     "name": "stdout",
     "output_type": "stream",
     "text": [
      "Epoch 3/3 | Train Loss: 0.2953, Val Loss: 0.3107, Train Acc: 87.93%, Val Acc: 87.30%\n",
      "\n",
      "Training: hidden_dim=128, batch_size=16, epochs=5\n",
      "Epoch 1/5 | Train Loss: 0.3594, Val Loss: 0.3362, Train Acc: 85.27%, Val Acc: 86.47%\n",
      "Epoch 2/5 | Train Loss: 0.3190, Val Loss: 0.3178, Train Acc: 87.20%, Val Acc: 87.04%\n",
      "Epoch 3/5 | Train Loss: 0.2951, Val Loss: 0.3082, Train Acc: 87.99%, Val Acc: 87.16%\n",
      "Epoch 4/5 | Train Loss: 0.2688, Val Loss: 0.3114, Train Acc: 89.17%, Val Acc: 87.10%\n"
     ]
    },
    {
     "name": "stderr",
     "output_type": "stream",
     "text": [
      " 75%|███████▌  | 6/8 [07:48<02:56, 88.38s/it]"
     ]
    },
    {
     "name": "stdout",
     "output_type": "stream",
     "text": [
      "Epoch 5/5 | Train Loss: 0.2396, Val Loss: 0.3225, Train Acc: 90.48%, Val Acc: 86.69%\n",
      "\n",
      "Training: hidden_dim=128, batch_size=32, epochs=3\n",
      "Epoch 1/3 | Train Loss: 0.3714, Val Loss: 0.3570, Train Acc: 84.52%, Val Acc: 85.47%\n",
      "Epoch 2/3 | Train Loss: 0.3340, Val Loss: 0.3230, Train Acc: 86.69%, Val Acc: 86.99%\n"
     ]
    },
    {
     "name": "stderr",
     "output_type": "stream",
     "text": [
      " 88%|████████▊ | 7/8 [08:52<01:20, 80.41s/it]"
     ]
    },
    {
     "name": "stdout",
     "output_type": "stream",
     "text": [
      "Epoch 3/3 | Train Loss: 0.3060, Val Loss: 0.3150, Train Acc: 87.61%, Val Acc: 86.97%\n",
      "\n",
      "Training: hidden_dim=128, batch_size=32, epochs=5\n",
      "Epoch 1/5 | Train Loss: 0.3714, Val Loss: 0.3663, Train Acc: 84.50%, Val Acc: 84.62%\n",
      "Epoch 2/5 | Train Loss: 0.3357, Val Loss: 0.3226, Train Acc: 86.35%, Val Acc: 86.93%\n",
      "Epoch 3/5 | Train Loss: 0.3068, Val Loss: 0.3103, Train Acc: 87.54%, Val Acc: 87.17%\n",
      "Epoch 4/5 | Train Loss: 0.2841, Val Loss: 0.3086, Train Acc: 88.39%, Val Acc: 87.22%\n"
     ]
    },
    {
     "name": "stderr",
     "output_type": "stream",
     "text": [
      "100%|██████████| 8/8 [10:32<00:00, 79.04s/it]"
     ]
    },
    {
     "name": "stdout",
     "output_type": "stream",
     "text": [
      "Epoch 5/5 | Train Loss: 0.2607, Val Loss: 0.3133, Train Acc: 89.46%, Val Acc: 86.95%\n",
      "\n",
      "✅ Best configuration:\n",
      "Hidden Dim: 64, Batch Size: 16, Epochs: 3\n",
      "Validation Accuracy: 87.31%\n"
     ]
    },
    {
     "name": "stderr",
     "output_type": "stream",
     "text": [
      "\n"
     ]
    },
    {
     "name": "stdout",
     "output_type": "stream",
     "text": [
      "\n",
      "Classification Report (Multi-label, Test Set):\n",
      "              precision    recall  f1-score   support\n",
      "\n",
      "       anger       0.00      0.00      0.00      1635\n",
      "     disgust       0.00      0.00      0.00       281\n",
      "        fear       0.00      0.00      0.00       257\n",
      "         joy       0.76      0.61      0.68      4622\n",
      "     neutral       0.52      0.20      0.28      3046\n",
      "     sadness       0.81      0.03      0.06      1042\n",
      "    surprise       0.59      0.22      0.32      1638\n",
      "\n",
      "   micro avg       0.69      0.30      0.42     12521\n",
      "   macro avg       0.38      0.15      0.19     12521\n",
      "weighted avg       0.55      0.30      0.37     12521\n",
      " samples avg       0.33      0.31      0.32     12521\n",
      "\n"
     ]
    }
   ],
   "source": [
    "from sklearn.metrics import classification_report\n",
    "\n",
    "# Unpack the best configuration\n",
    "best_config, best_history, best_model = run_grid_search(df_train_ekman, df_val_ekman, vocab)\n",
    "\n",
    "# Prepare test loader using the best batch size\n",
    "_, best_batch_size, _ = best_config\n",
    "test_loader = DataLoader(EmotionDataset(df_test_ekman), batch_size=best_batch_size, collate_fn=collate_fn)\n",
    "\n",
    "# Evaluate on test set\n",
    "best_model.eval()\n",
    "all_labels = []\n",
    "all_preds = []\n",
    "\n",
    "with torch.no_grad():\n",
    "    for X_batch, y_batch in test_loader:\n",
    "        X_batch, y_batch = X_batch.to(device), y_batch.to(device)\n",
    "        outputs = best_model(X_batch)\n",
    "        preds = (outputs > 0.5).float()\n",
    "        all_labels.extend(y_batch.cpu().numpy())\n",
    "        all_preds.extend(preds.cpu().numpy())\n",
    "\n",
    "# Convert to arrays\n",
    "all_labels = np.array(all_labels)\n",
    "all_preds = np.array(all_preds)\n",
    "\n",
    "# Define class names\n",
    "class_names = ['anger', 'disgust', 'fear', 'joy', 'neutral', 'sadness', 'surprise']\n",
    "\n",
    "# Print detailed classification report\n",
    "print(\"\\nClassification Report (Multi-label, Test Set):\")\n",
    "print(classification_report(all_labels, all_preds, target_names=class_names, zero_division=0))\n",
    "\n",
    "\n"
   ]
  }
 ],
 "metadata": {
  "kernelspec": {
   "display_name": "base",
   "language": "python",
   "name": "python3"
  },
  "language_info": {
   "codemirror_mode": {
    "name": "ipython",
    "version": 3
   },
   "file_extension": ".py",
   "mimetype": "text/x-python",
   "name": "python",
   "nbconvert_exporter": "python",
   "pygments_lexer": "ipython3",
   "version": "3.11.5"
  }
 },
 "nbformat": 4,
 "nbformat_minor": 5
}
