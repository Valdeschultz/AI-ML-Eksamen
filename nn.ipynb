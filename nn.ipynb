{
 "cells": [
  {
   "cell_type": "code",
   "execution_count": 1,
   "id": "8e0110f8",
   "metadata": {},
   "outputs": [],
   "source": [
    "import pandas as pd\n",
    "import torch\n",
    "from torch.utils.data import Dataset, DataLoader\n",
    "from torch.nn.utils.rnn import pad_sequence\n",
    "import torch.nn as nn\n",
    "import torch.optim as optim\n",
    "from collections import Counter\n",
    "import nltk\n",
    "from nltk.tokenize import word_tokenize\n",
    "import matplotlib.pyplot as plt\n",
    "import numpy as np\n",
    "\n",
    "from sklearn.metrics import classification_report\n",
    "from itertools import product\n",
    "from tqdm import tqdm\n"
   ]
  },
  {
   "cell_type": "code",
   "execution_count": 2,
   "id": "69005660",
   "metadata": {},
   "outputs": [
    {
     "name": "stderr",
     "output_type": "stream",
     "text": [
      "[nltk_data] Downloading package punkt to\n",
      "[nltk_data]     /Users/marcuskrarup/nltk_data...\n",
      "[nltk_data]   Package punkt is already up-to-date!\n"
     ]
    },
    {
     "data": {
      "text/plain": [
       "True"
      ]
     },
     "execution_count": 2,
     "metadata": {},
     "output_type": "execute_result"
    }
   ],
   "source": [
    "nltk.download('punkt')"
   ]
  },
  {
   "cell_type": "markdown",
   "id": "7018f412",
   "metadata": {},
   "source": [
    "# Load data"
   ]
  },
  {
   "cell_type": "code",
   "execution_count": 3,
   "id": "a1e01561",
   "metadata": {},
   "outputs": [],
   "source": [
    "# Import Ekman emotions to DataFrame\n",
    "df_train_ekman = pd.read_csv('data/ekman_train.csv')\n",
    "df_val_ekman = pd.read_csv('data/ekman_val.csv')\n",
    "df_test_ekman = pd.read_csv('data/ekman_test.csv')\n",
    "\n"
   ]
  },
  {
   "cell_type": "code",
   "execution_count": 4,
   "id": "fb04edd5",
   "metadata": {},
   "outputs": [
    {
     "name": "stdout",
     "output_type": "stream",
     "text": [
      "Train Counts:\n",
      " anger        4907\n",
      "disgust       838\n",
      "fear          719\n",
      "joy         13936\n",
      "neutral      9544\n",
      "sadness      3016\n",
      "surprise     4895\n",
      "dtype: int64\n",
      "\n",
      "Test Counts:\n",
      " anger       1588\n",
      "disgust      258\n",
      "fear         254\n",
      "joy         4728\n",
      "neutral     3144\n",
      "sadness     1010\n",
      "surprise    1608\n",
      "dtype: int64\n",
      "\n",
      "Validation Counts:\n",
      " anger       1662\n",
      "disgust      265\n",
      "fear         255\n",
      "joy         4672\n",
      "neutral     3117\n",
      "sadness     1017\n",
      "surprise    1659\n",
      "dtype: int64\n"
     ]
    }
   ],
   "source": [
    "# Count occurrences for each emotion in train, test, and val datasets\n",
    "train_counts = df_train_ekman.iloc[:, 1:].sum()\n",
    "test_counts = df_test_ekman.iloc[:, 1:].sum()\n",
    "val_counts = df_val_ekman.iloc[:, 1:].sum()\n",
    "\n",
    "print(\"Train Counts:\\n\", train_counts)\n",
    "print(\"\\nTest Counts:\\n\", test_counts)\n",
    "print(\"\\nValidation Counts:\\n\", val_counts)"
   ]
  },
  {
   "cell_type": "markdown",
   "id": "9d301166",
   "metadata": {},
   "source": [
    "# Text preprocessing"
   ]
  },
  {
   "cell_type": "code",
   "execution_count": 5,
   "id": "1ff79a94",
   "metadata": {},
   "outputs": [],
   "source": [
    "def preprocess(text):\n",
    "    return word_tokenize(text.lower())"
   ]
  },
  {
   "cell_type": "markdown",
   "id": "28b1449c",
   "metadata": {},
   "source": [
    "# Build vocab"
   ]
  },
  {
   "cell_type": "code",
   "execution_count": 6,
   "id": "bbe94e4c",
   "metadata": {},
   "outputs": [],
   "source": [
    "tokenized_texts = df_train_ekman['text'].apply(preprocess)\n",
    "word_counts = Counter(token for tokens in tokenized_texts for token in tokens)\n",
    "vocab = {word: i + 2 for i, (word, _) in enumerate(word_counts.items())}\n",
    "vocab['<PAD>'] = 0\n",
    "vocab['<UNK>'] = 1\n",
    "\n",
    "def encode(text):\n",
    "    return [vocab.get(t, vocab['<UNK>']) for t in preprocess(text)]"
   ]
  },
  {
   "cell_type": "markdown",
   "id": "4f1567cc",
   "metadata": {},
   "source": [
    "# Dataset"
   ]
  },
  {
   "cell_type": "code",
   "execution_count": 7,
   "id": "219b2c8c",
   "metadata": {},
   "outputs": [],
   "source": [
    "class EmotionDataset(Dataset):\n",
    "    def __init__(self, df):\n",
    "        self.X = [torch.tensor(encode(text)) for text in df['text']]\n",
    "        self.y = torch.tensor(df.iloc[:, 1:].values, dtype=torch.float)\n",
    "\n",
    "    def __len__(self):\n",
    "        return len(self.X)\n",
    "\n",
    "    def __getitem__(self, idx):\n",
    "        return self.X[idx], self.y[idx]\n",
    "\n",
    "def collate_fn(batch):\n",
    "    sequences, labels = zip(*batch)\n",
    "    padded_seqs = pad_sequence(sequences, batch_first=True, padding_value=0)\n",
    "    return padded_seqs, torch.stack(labels)\n",
    "\n",
    "train_loader = DataLoader(EmotionDataset(df_train_ekman), batch_size=32, shuffle=True, collate_fn=collate_fn)\n",
    "val_loader = DataLoader(EmotionDataset(df_val_ekman), batch_size=32, collate_fn=collate_fn)\n",
    "test_loader = DataLoader(EmotionDataset(df_test_ekman), batch_size=32, collate_fn=collate_fn)"
   ]
  },
  {
   "cell_type": "markdown",
   "id": "50a0ae05",
   "metadata": {},
   "source": [
    "# Model"
   ]
  },
  {
   "cell_type": "code",
   "execution_count": 8,
   "id": "9983cce0",
   "metadata": {},
   "outputs": [],
   "source": [
    "class EmotionLSTM(nn.Module):\n",
    "    def __init__(self, vocab_size, embed_dim, hidden_dim, output_dim):\n",
    "        super().__init__()\n",
    "        self.embedding = nn.Embedding(vocab_size, embed_dim, padding_idx=0)\n",
    "        self.lstm = nn.LSTM(embed_dim, hidden_dim, batch_first=True)\n",
    "        self.fc = nn.Linear(hidden_dim, output_dim)\n",
    "        self.sigmoid = nn.Sigmoid()\n",
    "\n",
    "    def forward(self, x):\n",
    "        x = self.embedding(x)\n",
    "        _, (h_n, _) = self.lstm(x)\n",
    "        out = self.fc(h_n[-1])\n",
    "        return self.sigmoid(out)"
   ]
  },
  {
   "cell_type": "markdown",
   "id": "8dec3a7b",
   "metadata": {},
   "source": [
    "# Initialize"
   ]
  },
  {
   "cell_type": "code",
   "execution_count": 9,
   "id": "35b1a2d8",
   "metadata": {},
   "outputs": [],
   "source": [
    "device = torch.device('cuda' if torch.cuda.is_available() else 'cpu')\n",
    "model = EmotionLSTM(len(vocab), embed_dim=100, hidden_dim=128, output_dim=7).to(device)\n",
    "criterion = nn.BCELoss()\n",
    "optimizer = optim.Adam(model.parameters(), lr=0.001)"
   ]
  },
  {
   "cell_type": "markdown",
   "id": "bfd1d9f8",
   "metadata": {},
   "source": [
    "# Training loop"
   ]
  },
  {
   "cell_type": "code",
   "execution_count": 10,
   "id": "9bb01046",
   "metadata": {},
   "outputs": [
    {
     "name": "stdout",
     "output_type": "stream",
     "text": [
      "Epoch 1, Loss: 406.2104\n",
      "Epoch 2, Loss: 370.5895\n",
      "Epoch 3, Loss: 336.3204\n",
      "Epoch 4, Loss: 312.0397\n",
      "Epoch 5, Loss: 286.1585\n"
     ]
    }
   ],
   "source": [
    "for epoch in range(5):\n",
    "    model.train()\n",
    "    total_loss = 0\n",
    "    for X_batch, y_batch in train_loader:\n",
    "        X_batch, y_batch = X_batch.to(device), y_batch.to(device)\n",
    "        optimizer.zero_grad()\n",
    "        preds = model(X_batch)\n",
    "        loss = criterion(preds, y_batch)\n",
    "        loss.backward()\n",
    "        optimizer.step()\n",
    "        total_loss += loss.item()\n",
    "    print(f\"Epoch {epoch+1}, Loss: {total_loss:.4f}\")"
   ]
  },
  {
   "cell_type": "markdown",
   "id": "141fdd32",
   "metadata": {},
   "source": [
    "# Evaluation (Validation or Test)"
   ]
  },
  {
   "cell_type": "code",
   "execution_count": 11,
   "id": "a09ffecf",
   "metadata": {},
   "outputs": [
    {
     "name": "stdout",
     "output_type": "stream",
     "text": [
      "Epoch 1, Loss: 256.0915\n",
      "Epoch 2, Loss: 224.4679\n",
      "Epoch 3, Loss: 194.2492\n",
      "Epoch 4, Loss: 167.4298\n",
      "Epoch 5, Loss: 145.1787\n"
     ]
    }
   ],
   "source": [
    "for epoch in range(5):\n",
    "    model.train()\n",
    "    total_loss = 0\n",
    "    for X_batch, y_batch in train_loader:\n",
    "        X_batch, y_batch = X_batch.to(device), y_batch.to(device)\n",
    "        optimizer.zero_grad()\n",
    "        preds = model(X_batch)\n",
    "        loss = criterion(preds, y_batch)\n",
    "        loss.backward()\n",
    "        optimizer.step()\n",
    "        total_loss += loss.item()\n",
    "    print(f\"Epoch {epoch+1}, Loss: {total_loss:.4f}\")"
   ]
  },
  {
   "cell_type": "code",
   "execution_count": 12,
   "id": "ed103e52",
   "metadata": {},
   "outputs": [],
   "source": [
    "def evaluate(loader):\n",
    "    model.eval()\n",
    "    correct, total = 0, 0\n",
    "    with torch.no_grad():\n",
    "        for X_batch, y_batch in loader:\n",
    "            X_batch, y_batch = X_batch.to(device), y_batch.to(device)\n",
    "            preds = model(X_batch)\n",
    "            preds = (preds > 0.5).float()\n",
    "            correct += (preds == y_batch).sum().item()\n",
    "            total += torch.numel(y_batch)\n",
    "    print(f\"Accuracy: {correct / total:.4f}\")"
   ]
  },
  {
   "cell_type": "code",
   "execution_count": 13,
   "id": "f226b778",
   "metadata": {},
   "outputs": [
    {
     "ename": "TypeError",
     "evalue": "evaluate() got an unexpected keyword argument 'model'",
     "output_type": "error",
     "traceback": [
      "\u001b[0;31m---------------------------------------------------------------------------\u001b[0m",
      "\u001b[0;31mTypeError\u001b[0m                                 Traceback (most recent call last)",
      "Cell \u001b[0;32mIn[13], line 1\u001b[0m\n\u001b[0;32m----> 1\u001b[0m evaluate(\n\u001b[1;32m      2\u001b[0m     model \u001b[38;5;241m=\u001b[39m model\u001b[38;5;241m.\u001b[39mto(device),\n\u001b[1;32m      3\u001b[0m     data_loader \u001b[38;5;241m=\u001b[39m val_loader,  \n\u001b[1;32m      4\u001b[0m     criterion \u001b[38;5;241m=\u001b[39m criterion,\n\u001b[1;32m      5\u001b[0m     device \u001b[38;5;241m=\u001b[39m device,\n\u001b[1;32m      6\u001b[0m )\n",
      "\u001b[0;31mTypeError\u001b[0m: evaluate() got an unexpected keyword argument 'model'"
     ]
    }
   ],
   "source": [
    "evaluate(\n",
    "    model = model.to(device),\n",
    "    data_loader = val_loader,  \n",
    "    criterion = criterion,\n",
    "    device = device,\n",
    ")"
   ]
  },
  {
   "cell_type": "code",
   "execution_count": 14,
   "id": "6f75805b",
   "metadata": {},
   "outputs": [],
   "source": [
    "history = {\n",
    "    \"train_loss\": [],\n",
    "    \"val_loss\": [],\n",
    "    \"train_acc\": [],\n",
    "    \"val_acc\": [],\n",
    "}"
   ]
  },
  {
   "cell_type": "code",
   "execution_count": 15,
   "id": "1f79bdad",
   "metadata": {},
   "outputs": [
    {
     "name": "stdout",
     "output_type": "stream",
     "text": [
      "Epoch 1/5 | Train Loss: 0.1169, Val Loss: 0.4924, Train Acc: 95.89%, Val Acc: 84.96%\n",
      "Epoch 2/5 | Train Loss: 0.1023, Val Loss: 0.5111, Train Acc: 96.47%, Val Acc: 85.07%\n",
      "Epoch 3/5 | Train Loss: 0.0905, Val Loss: 0.5498, Train Acc: 96.90%, Val Acc: 85.06%\n",
      "Epoch 4/5 | Train Loss: 0.0804, Val Loss: 0.5659, Train Acc: 97.30%, Val Acc: 84.71%\n",
      "Epoch 5/5 | Train Loss: 0.0719, Val Loss: 0.5984, Train Acc: 97.59%, Val Acc: 84.44%\n"
     ]
    }
   ],
   "source": [
    "epochs = 5  # Define the number of epochs\n",
    "for epoch in range(epochs):\n",
    "    model.train()\n",
    "    running_loss = 0\n",
    "    correct, total = 0, 0\n",
    "    for X_batch, y_batch in train_loader:\n",
    "        X_batch, y_batch = X_batch.to(device), y_batch.to(device)\n",
    "        optimizer.zero_grad()\n",
    "        preds = model(X_batch)\n",
    "        loss = criterion(preds, y_batch)\n",
    "        loss.backward()\n",
    "        optimizer.step()\n",
    "        running_loss += loss.item()\n",
    "        \n",
    "        # Accuracy\n",
    "        predicted = (preds > 0.5).float()\n",
    "        correct += (predicted == y_batch).sum().item()\n",
    "        total += torch.numel(y_batch)\n",
    "\n",
    "    train_loss = running_loss / len(train_loader)\n",
    "    train_acc = correct / total * 100\n",
    "\n",
    "    # Validation\n",
    "    model.eval()\n",
    "    val_loss, val_correct, val_total = 0, 0, 0\n",
    "    with torch.no_grad():\n",
    "        for X_batch, y_batch in val_loader:\n",
    "            X_batch, y_batch = X_batch.to(device), y_batch.to(device)\n",
    "            preds = model(X_batch)\n",
    "            loss = criterion(preds, y_batch)\n",
    "            val_loss += loss.item()\n",
    "            predicted = (preds > 0.5).float()\n",
    "            val_correct += (predicted == y_batch).sum().item()\n",
    "            val_total += torch.numel(y_batch)\n",
    "\n",
    "    val_loss /= len(val_loader)\n",
    "    val_acc = val_correct / val_total * 100\n",
    "\n",
    "    # Record history\n",
    "    history[\"train_loss\"].append(train_loss)\n",
    "    history[\"val_loss\"].append(val_loss)\n",
    "    history[\"train_acc\"].append(train_acc)\n",
    "    history[\"val_acc\"].append(val_acc)\n",
    "\n",
    "    print(f\"Epoch {epoch+1}/{epochs} | Train Loss: {train_loss:.4f}, Val Loss: {val_loss:.4f}, Train Acc: {train_acc:.2f}%, Val Acc: {val_acc:.2f}%\")\n"
   ]
  },
  {
   "cell_type": "code",
   "execution_count": 16,
   "id": "78f94204",
   "metadata": {},
   "outputs": [
    {
     "data": {
      "image/png": "[encoded data removed]",
      "text/plain": [
       "<Figure size 1200x600 with 2 Axes>"
      ]
     },
     "metadata": {},
     "output_type": "display_data"
    }
   ],
   "source": [
    "def plot_training_history(history):\n",
    "    epochs = range(1, len(history[\"train_loss\"]) + 1)\n",
    "\n",
    "    plt.figure(figsize=(12, 6))\n",
    "    plt.subplot(1, 2, 1)\n",
    "    plt.plot(epochs, history[\"train_loss\"], label=\"Train Loss\", marker=\"o\")\n",
    "    plt.plot(epochs, history[\"val_loss\"], label=\"Validation Loss\", marker=\"o\")\n",
    "    plt.xlabel(\"Epoch\")\n",
    "    plt.ylabel(\"Loss\")\n",
    "    plt.title(\"Training and Validation Loss\")\n",
    "    plt.legend()\n",
    "    plt.grid(True)\n",
    "\n",
    "    plt.subplot(1, 2, 2)\n",
    "    plt.plot(epochs, history[\"train_acc\"], label=\"Train Accuracy\", marker=\"o\")\n",
    "    plt.plot(epochs, history[\"val_acc\"], label=\"Validation Accuracy\", marker=\"o\")\n",
    "    plt.xlabel(\"Epoch\")\n",
    "    plt.ylabel(\"Accuracy (%)\")\n",
    "    plt.title(\"Training and Validation Accuracy\")\n",
    "    plt.legend()\n",
    "    plt.grid(True)\n",
    "\n",
    "    plt.tight_layout()\n",
    "    plt.show()\n",
    "\n",
    "plot_training_history(history)\n"
   ]
  },
  {
   "cell_type": "code",
   "execution_count": 17,
   "id": "b85ba6c6",
   "metadata": {},
   "outputs": [
    {
     "name": "stdout",
     "output_type": "stream",
     "text": [
      "Test:\n",
      "Accuracy: 0.8423\n"
     ]
    }
   ],
   "source": [
    "print(\"Test:\")\n",
    "evaluate(test_loader)"
   ]
  },
  {
   "cell_type": "code",
   "execution_count": 18,
   "id": "939c1b68",
   "metadata": {},
   "outputs": [
    {
     "name": "stdout",
     "output_type": "stream",
     "text": [
      "\n",
      "Classification Report (Multi-label):\n",
      "              precision    recall  f1-score   support\n",
      "\n",
      "       anger       0.36      0.31      0.33      1588\n",
      "     disgust       0.23      0.10      0.14       258\n",
      "        fear       0.31      0.13      0.18       254\n",
      "         joy       0.66      0.65      0.66      4728\n",
      "     neutral       0.40      0.39      0.40      3144\n",
      "     sadness       0.42      0.30      0.35      1010\n",
      "    surprise       0.36      0.39      0.37      1608\n",
      "\n",
      "   micro avg       0.49      0.46      0.48     12590\n",
      "   macro avg       0.39      0.32      0.35     12590\n",
      "weighted avg       0.49      0.46      0.47     12590\n",
      " samples avg       0.47      0.47      0.46     12590\n",
      "\n"
     ]
    }
   ],
   "source": [
    "from sklearn.metrics import classification_report\n",
    "\n",
    "model.eval()\n",
    "all_labels = []\n",
    "all_preds = []\n",
    "\n",
    "with torch.no_grad():\n",
    "    for X_batch, y_batch in test_loader:\n",
    "        X_batch, y_batch = X_batch.to(device), y_batch.to(device)\n",
    "        outputs = model(X_batch)\n",
    "        preds = (outputs > 0.5).float()\n",
    "\n",
    "        all_labels.extend(y_batch.cpu().numpy())\n",
    "        all_preds.extend(preds.cpu().numpy())\n",
    "\n",
    "# Convert to arrays\n",
    "all_labels = np.array(all_labels)\n",
    "all_preds = np.array(all_preds)\n",
    "\n",
    "# Emotion class names in order\n",
    "class_names = ['anger', 'disgust', 'fear', 'joy', 'neutral', 'sadness', 'surprise']\n",
    "\n",
    "# Print classification report\n",
    "print(\"\\nClassification Report (Multi-label):\")\n",
    "print(classification_report(all_labels, all_preds, target_names=class_names, zero_division=0))\n"
   ]
  },
  {
   "cell_type": "code",
   "execution_count": 19,
   "id": "c4703f16",
   "metadata": {},
   "outputs": [
    {
     "name": "stdout",
     "output_type": "stream",
     "text": [
      "\n",
      "Classification Report (Multi-label):\n",
      "              precision    recall  f1-score   support\n",
      "\n",
      "       anger       0.36      0.31      0.33      1588\n",
      "     disgust       0.23      0.10      0.14       258\n",
      "        fear       0.31      0.13      0.18       254\n",
      "         joy       0.66      0.65      0.66      4728\n",
      "     neutral       0.40      0.39      0.40      3144\n",
      "     sadness       0.42      0.30      0.35      1010\n",
      "    surprise       0.36      0.39      0.37      1608\n",
      "\n",
      "   micro avg       0.49      0.46      0.48     12590\n",
      "   macro avg       0.39      0.32      0.35     12590\n",
      "weighted avg       0.49      0.46      0.47     12590\n",
      " samples avg       0.47      0.47      0.46     12590\n",
      "\n"
     ]
    }
   ],
   "source": [
    "import numpy as np\n",
    "from sklearn.metrics import classification_report\n",
    "\n",
    "model.eval()\n",
    "all_labels = []\n",
    "all_preds = []\n",
    "\n",
    "with torch.no_grad():\n",
    "    for X_batch, y_batch in test_loader:\n",
    "        X_batch, y_batch = X_batch.to(device), y_batch.to(device)\n",
    "        outputs = model(X_batch)\n",
    "        preds = (outputs > 0.5).float()\n",
    "        all_labels.extend(y_batch.cpu().numpy())\n",
    "        all_preds.extend(preds.cpu().numpy())\n",
    "\n",
    "all_labels = np.array(all_labels)\n",
    "all_preds = np.array(all_preds)\n",
    "\n",
    "class_names = ['anger', 'disgust', 'fear', 'joy', 'neutral', 'sadness', 'surprise']\n",
    "\n",
    "print(\"\\nClassification Report (Multi-label):\")\n",
    "print(classification_report(all_labels, all_preds, target_names=class_names, zero_division=0))\n"
   ]
  },
  {
   "cell_type": "markdown",
   "id": "95c0ec8f",
   "metadata": {},
   "source": [
    "# Hyperparameter tuning"
   ]
  },
  {
   "cell_type": "code",
   "execution_count": 20,
   "id": "7edc636c",
   "metadata": {},
   "outputs": [],
   "source": [
    "def run_grid_search(df_train_ekman, df_val_ekman, vocab):\n",
    "\n",
    "    device = torch.device(\"cuda\" if torch.cuda.is_available() else \"cpu\")\n",
    "    best_config = None\n",
    "    best_val_acc = 0\n",
    "    best_history = None\n",
    "    best_model = None\n",
    "\n",
    "    # Hyperparameter grid\n",
    "    hidden_dims = [64, 128]\n",
    "    batch_sizes = [16, 32]\n",
    "    epochs_list = [3, 10]\n",
    "\n",
    "    for hidden_dim, batch_size, epochs in tqdm(product(hidden_dims, batch_sizes, epochs_list), total=8):\n",
    "        print(f\"\\nTraining: hidden_dim={hidden_dim}, batch_size={batch_size}, epochs={epochs}\")\n",
    "\n",
    "        train_loader = DataLoader(EmotionDataset(df_train_ekman), batch_size=batch_size, shuffle=True, collate_fn=collate_fn)\n",
    "        val_loader = DataLoader(EmotionDataset(df_val_ekman), batch_size=batch_size, collate_fn=collate_fn)\n",
    "\n",
    "        model = EmotionLSTM(len(vocab), embed_dim=100, hidden_dim=hidden_dim, output_dim=7).to(device)\n",
    "        criterion = nn.BCELoss()\n",
    "        optimizer = optim.Adam(model.parameters(), lr=0.01)\n",
    "\n",
    "        history = {\"train_loss\": [], \"val_loss\": [], \"train_acc\": [], \"val_acc\": []}\n",
    "\n",
    "        for epoch in range(epochs):\n",
    "            model.train()\n",
    "            total_loss = 0\n",
    "            correct, total = 0, 0\n",
    "            for X_batch, y_batch in train_loader:\n",
    "                X_batch, y_batch = X_batch.to(device), y_batch.to(device)\n",
    "                optimizer.zero_grad()\n",
    "                preds = model(X_batch)\n",
    "                loss = criterion(preds, y_batch)\n",
    "                loss.backward()\n",
    "                optimizer.step()\n",
    "                total_loss += loss.item()\n",
    "                predicted = (preds > 0.5).float()\n",
    "                correct += (predicted == y_batch).sum().item()\n",
    "                total += torch.numel(y_batch)\n",
    "\n",
    "            train_loss = total_loss / len(train_loader)\n",
    "            train_acc = correct / total * 100\n",
    "\n",
    "            model.eval()\n",
    "            val_loss, val_correct, val_total = 0, 0, 0\n",
    "            with torch.no_grad():\n",
    "                for X_batch, y_batch in val_loader:\n",
    "                    X_batch, y_batch = X_batch.to(device), y_batch.to(device)\n",
    "                    preds = model(X_batch)\n",
    "                    val_loss += criterion(preds, y_batch).item()\n",
    "                    predicted = (preds > 0.5).float()\n",
    "                    val_correct += (predicted == y_batch).sum().item()\n",
    "                    val_total += torch.numel(y_batch)\n",
    "\n",
    "            val_loss /= len(val_loader)\n",
    "            val_acc = val_correct / val_total * 100\n",
    "\n",
    "            history[\"train_loss\"].append(train_loss)\n",
    "            history[\"val_loss\"].append(val_loss)\n",
    "            history[\"train_acc\"].append(train_acc)\n",
    "            history[\"val_acc\"].append(val_acc)\n",
    "\n",
    "            print(f\"Epoch {epoch+1}/{epochs} | Train Loss: {train_loss:.4f}, Val Loss: {val_loss:.4f}, Train Acc: {train_acc:.2f}%, Val Acc: {val_acc:.2f}%\")\n",
    "\n",
    "        if val_acc > best_val_acc:\n",
    "            best_val_acc = val_acc\n",
    "            best_config = (hidden_dim, batch_size, epochs)\n",
    "            best_history = {\n",
    "                \"train_loss\": history[\"train_loss\"].copy(),\n",
    "                \"val_loss\": history[\"val_loss\"].copy(),\n",
    "                \"train_acc\": history[\"train_acc\"].copy(),\n",
    "                \"val_acc\": history[\"val_acc\"].copy()\n",
    "            }\n",
    "            best_model = model\n",
    "\n",
    "    print(\"\\n✅ Best configuration:\")\n",
    "    print(f\"Hidden Dim: {best_config[0]}, Batch Size: {best_config[1]}, Epochs: {best_config[2]}\")\n",
    "    print(f\"Validation Accuracy: {best_val_acc:.2f}%\")\n",
    "\n",
    "    return best_config, best_history, best_model\n"
   ]
  },
  {
   "cell_type": "code",
   "execution_count": 21,
   "id": "5bcf9c42",
   "metadata": {},
   "outputs": [
    {
     "name": "stderr",
     "output_type": "stream",
     "text": [
      "  0%|          | 0/8 [00:00<?, ?it/s]"
     ]
    },
    {
     "name": "stdout",
     "output_type": "stream",
     "text": [
      "\n",
      "Training: hidden_dim=64, batch_size=16, epochs=3\n",
      "Epoch 1/3 | Train Loss: 0.3699, Val Loss: 0.3629, Train Acc: 84.49%, Val Acc: 84.93%\n",
      "Epoch 2/3 | Train Loss: 0.3550, Val Loss: 0.3538, Train Acc: 85.32%, Val Acc: 85.53%\n"
     ]
    },
    {
     "name": "stderr",
     "output_type": "stream",
     "text": [
      " 12%|█▎        | 1/8 [00:58<06:47, 58.20s/it]"
     ]
    },
    {
     "name": "stdout",
     "output_type": "stream",
     "text": [
      "Epoch 3/3 | Train Loss: 0.3430, Val Loss: 0.3508, Train Acc: 85.96%, Val Acc: 85.73%\n",
      "\n",
      "Training: hidden_dim=64, batch_size=16, epochs=10\n",
      "Epoch 1/10 | Train Loss: 0.3687, Val Loss: 0.3595, Train Acc: 84.52%, Val Acc: 85.26%\n",
      "Epoch 2/10 | Train Loss: 0.3511, Val Loss: 0.3515, Train Acc: 85.63%, Val Acc: 85.59%\n",
      "Epoch 3/10 | Train Loss: 0.3382, Val Loss: 0.3533, Train Acc: 86.24%, Val Acc: 85.42%\n",
      "Epoch 4/10 | Train Loss: 0.3300, Val Loss: 0.3506, Train Acc: 86.64%, Val Acc: 85.80%\n",
      "Epoch 5/10 | Train Loss: 0.3229, Val Loss: 0.3536, Train Acc: 86.95%, Val Acc: 85.57%\n",
      "Epoch 6/10 | Train Loss: 0.3176, Val Loss: 0.3598, Train Acc: 87.26%, Val Acc: 85.08%\n",
      "Epoch 7/10 | Train Loss: 0.3122, Val Loss: 0.3579, Train Acc: 87.51%, Val Acc: 85.33%\n",
      "Epoch 8/10 | Train Loss: 0.3102, Val Loss: 0.3603, Train Acc: 87.59%, Val Acc: 85.20%\n",
      "Epoch 9/10 | Train Loss: 0.3067, Val Loss: 0.3693, Train Acc: 87.76%, Val Acc: 84.98%\n"
     ]
    },
    {
     "name": "stderr",
     "output_type": "stream",
     "text": [
      " 25%|██▌       | 2/8 [04:16<14:02, 140.36s/it]"
     ]
    },
    {
     "name": "stdout",
     "output_type": "stream",
     "text": [
      "Epoch 10/10 | Train Loss: 0.3026, Val Loss: 0.3655, Train Acc: 87.98%, Val Acc: 85.16%\n",
      "\n",
      "Training: hidden_dim=64, batch_size=32, epochs=3\n",
      "Epoch 1/3 | Train Loss: 0.3703, Val Loss: 0.3625, Train Acc: 84.44%, Val Acc: 84.92%\n",
      "Epoch 2/3 | Train Loss: 0.3543, Val Loss: 0.3478, Train Acc: 85.41%, Val Acc: 85.90%\n"
     ]
    },
    {
     "name": "stderr",
     "output_type": "stream",
     "text": [
      " 38%|███▊      | 3/8 [04:52<07:44, 92.98s/it] "
     ]
    },
    {
     "name": "stdout",
     "output_type": "stream",
     "text": [
      "Epoch 3/3 | Train Loss: 0.3331, Val Loss: 0.3403, Train Acc: 86.56%, Val Acc: 86.45%\n",
      "\n",
      "Training: hidden_dim=64, batch_size=32, epochs=10\n",
      "Epoch 1/10 | Train Loss: 0.3724, Val Loss: 0.3636, Train Acc: 84.31%, Val Acc: 84.77%\n",
      "Epoch 2/10 | Train Loss: 0.3528, Val Loss: 0.3475, Train Acc: 85.51%, Val Acc: 86.00%\n",
      "Epoch 3/10 | Train Loss: 0.3328, Val Loss: 0.3367, Train Acc: 86.61%, Val Acc: 86.43%\n",
      "Epoch 4/10 | Train Loss: 0.3166, Val Loss: 0.3340, Train Acc: 87.23%, Val Acc: 86.53%\n",
      "Epoch 5/10 | Train Loss: 0.3044, Val Loss: 0.3357, Train Acc: 87.74%, Val Acc: 86.44%\n",
      "Epoch 6/10 | Train Loss: 0.2943, Val Loss: 0.3402, Train Acc: 88.25%, Val Acc: 86.09%\n",
      "Epoch 7/10 | Train Loss: 0.2864, Val Loss: 0.3449, Train Acc: 88.57%, Val Acc: 86.19%\n",
      "Epoch 8/10 | Train Loss: 0.2787, Val Loss: 0.3472, Train Acc: 88.93%, Val Acc: 86.18%\n",
      "Epoch 9/10 | Train Loss: 0.2726, Val Loss: 0.3492, Train Acc: 89.25%, Val Acc: 86.08%\n"
     ]
    },
    {
     "name": "stderr",
     "output_type": "stream",
     "text": [
      " 50%|█████     | 4/8 [06:49<06:49, 102.28s/it]"
     ]
    },
    {
     "name": "stdout",
     "output_type": "stream",
     "text": [
      "Epoch 10/10 | Train Loss: 0.2664, Val Loss: 0.3579, Train Acc: 89.53%, Val Acc: 85.71%\n",
      "\n",
      "Training: hidden_dim=128, batch_size=16, epochs=3\n",
      "Epoch 1/3 | Train Loss: 0.3677, Val Loss: 0.3567, Train Acc: 84.58%, Val Acc: 85.39%\n",
      "Epoch 2/3 | Train Loss: 0.3494, Val Loss: 0.3474, Train Acc: 85.77%, Val Acc: 85.98%\n"
     ]
    },
    {
     "name": "stderr",
     "output_type": "stream",
     "text": [
      " 62%|██████▎   | 5/8 [08:08<04:42, 94.08s/it] "
     ]
    },
    {
     "name": "stdout",
     "output_type": "stream",
     "text": [
      "Epoch 3/3 | Train Loss: 0.3359, Val Loss: 0.3438, Train Acc: 86.36%, Val Acc: 86.13%\n",
      "\n",
      "Training: hidden_dim=128, batch_size=16, epochs=10\n",
      "Epoch 1/10 | Train Loss: 0.3652, Val Loss: 0.3557, Train Acc: 84.71%, Val Acc: 85.51%\n",
      "Epoch 2/10 | Train Loss: 0.3459, Val Loss: 0.3499, Train Acc: 85.94%, Val Acc: 85.77%\n",
      "Epoch 3/10 | Train Loss: 0.3348, Val Loss: 0.3457, Train Acc: 86.44%, Val Acc: 86.03%\n",
      "Epoch 4/10 | Train Loss: 0.3246, Val Loss: 0.3485, Train Acc: 86.85%, Val Acc: 85.98%\n",
      "Epoch 5/10 | Train Loss: 0.3201, Val Loss: 0.3454, Train Acc: 87.08%, Val Acc: 85.98%\n",
      "Epoch 6/10 | Train Loss: 0.3155, Val Loss: 0.3490, Train Acc: 87.26%, Val Acc: 85.81%\n",
      "Epoch 7/10 | Train Loss: 0.3104, Val Loss: 0.3483, Train Acc: 87.46%, Val Acc: 85.85%\n",
      "Epoch 8/10 | Train Loss: 0.3062, Val Loss: 0.3554, Train Acc: 87.71%, Val Acc: 85.83%\n",
      "Epoch 9/10 | Train Loss: 0.3034, Val Loss: 0.3540, Train Acc: 87.89%, Val Acc: 85.47%\n"
     ]
    },
    {
     "name": "stderr",
     "output_type": "stream",
     "text": [
      " 75%|███████▌  | 6/8 [12:30<05:02, 151.13s/it]"
     ]
    },
    {
     "name": "stdout",
     "output_type": "stream",
     "text": [
      "Epoch 10/10 | Train Loss: 0.3005, Val Loss: 0.3536, Train Acc: 88.00%, Val Acc: 85.63%\n",
      "\n",
      "Training: hidden_dim=128, batch_size=32, epochs=3\n",
      "Epoch 1/3 | Train Loss: 0.3722, Val Loss: 0.3642, Train Acc: 84.33%, Val Acc: 84.77%\n",
      "Epoch 2/3 | Train Loss: 0.3492, Val Loss: 0.3364, Train Acc: 85.77%, Val Acc: 86.52%\n"
     ]
    },
    {
     "name": "stderr",
     "output_type": "stream",
     "text": [
      " 88%|████████▊ | 7/8 [13:36<02:03, 123.12s/it]"
     ]
    },
    {
     "name": "stdout",
     "output_type": "stream",
     "text": [
      "Epoch 3/3 | Train Loss: 0.3280, Val Loss: 0.3323, Train Acc: 86.90%, Val Acc: 86.74%\n",
      "\n",
      "Training: hidden_dim=128, batch_size=32, epochs=10\n",
      "Epoch 1/10 | Train Loss: 0.3715, Val Loss: 0.3605, Train Acc: 84.43%, Val Acc: 85.05%\n",
      "Epoch 2/10 | Train Loss: 0.3493, Val Loss: 0.3410, Train Acc: 85.66%, Val Acc: 86.10%\n",
      "Epoch 3/10 | Train Loss: 0.3288, Val Loss: 0.3323, Train Acc: 86.60%, Val Acc: 86.53%\n",
      "Epoch 4/10 | Train Loss: 0.3144, Val Loss: 0.3296, Train Acc: 87.24%, Val Acc: 86.50%\n",
      "Epoch 5/10 | Train Loss: 0.3035, Val Loss: 0.3316, Train Acc: 87.71%, Val Acc: 86.47%\n",
      "Epoch 6/10 | Train Loss: 0.2949, Val Loss: 0.3332, Train Acc: 88.13%, Val Acc: 86.20%\n",
      "Epoch 7/10 | Train Loss: 0.2871, Val Loss: 0.3355, Train Acc: 88.50%, Val Acc: 86.27%\n",
      "Epoch 8/10 | Train Loss: 0.2789, Val Loss: 0.3357, Train Acc: 88.90%, Val Acc: 86.26%\n",
      "Epoch 9/10 | Train Loss: 0.2728, Val Loss: 0.3387, Train Acc: 89.16%, Val Acc: 86.19%\n"
     ]
    },
    {
     "name": "stderr",
     "output_type": "stream",
     "text": [
      "100%|██████████| 8/8 [17:01<00:00, 127.68s/it]"
     ]
    },
    {
     "name": "stdout",
     "output_type": "stream",
     "text": [
      "Epoch 10/10 | Train Loss: 0.2654, Val Loss: 0.3445, Train Acc: 89.55%, Val Acc: 86.01%\n",
      "\n",
      "✅ Best configuration:\n",
      "Hidden Dim: 128, Batch Size: 32, Epochs: 3\n",
      "Validation Accuracy: 86.74%\n"
     ]
    },
    {
     "name": "stderr",
     "output_type": "stream",
     "text": [
      "\n"
     ]
    },
    {
     "data": {
      "text/plain": [
       "((128, 32, 3),\n",
       " {'train_loss': [0.3721730939954492, 0.3491781049047701, 0.3280113971244375],\n",
       "  'val_loss': [0.36420451174812635, 0.33643596836074235, 0.3323237653666916],\n",
       "  'train_acc': [84.33388598813855, 85.7732630554387, 86.89836925589567],\n",
       "  'val_acc': [84.76652396624681, 86.52347133206305, 86.73504738808741]},\n",
       " EmotionLSTM(\n",
       "   (embedding): Embedding(25934, 100, padding_idx=0)\n",
       "   (lstm): LSTM(100, 128, batch_first=True)\n",
       "   (fc): Linear(in_features=128, out_features=7, bias=True)\n",
       "   (sigmoid): Sigmoid()\n",
       " ))"
      ]
     },
     "execution_count": 21,
     "metadata": {},
     "output_type": "execute_result"
    }
   ],
   "source": [
    "run_grid_search(df_train_ekman, df_val_ekman, vocab)\n",
    "\n"
   ]
  },
  {
   "cell_type": "code",
   "execution_count": 22,
   "id": "528fceb9",
   "metadata": {},
   "outputs": [
    {
     "name": "stderr",
     "output_type": "stream",
     "text": [
      "  0%|          | 0/8 [00:00<?, ?it/s]"
     ]
    },
    {
     "name": "stdout",
     "output_type": "stream",
     "text": [
      "\n",
      "Training: hidden_dim=64, batch_size=16, epochs=3\n",
      "Epoch 1/3 | Train Loss: 0.3695, Val Loss: 0.3648, Train Acc: 84.44%, Val Acc: 85.01%\n",
      "Epoch 2/3 | Train Loss: 0.3554, Val Loss: 0.3553, Train Acc: 85.39%, Val Acc: 85.41%\n"
     ]
    },
    {
     "name": "stderr",
     "output_type": "stream",
     "text": [
      " 12%|█▎        | 1/8 [01:04<07:32, 64.63s/it]"
     ]
    },
    {
     "name": "stdout",
     "output_type": "stream",
     "text": [
      "Epoch 3/3 | Train Loss: 0.3434, Val Loss: 0.3548, Train Acc: 86.05%, Val Acc: 85.58%\n",
      "\n",
      "Training: hidden_dim=64, batch_size=16, epochs=10\n",
      "Epoch 1/10 | Train Loss: 0.3686, Val Loss: 0.3588, Train Acc: 84.51%, Val Acc: 85.14%\n",
      "Epoch 2/10 | Train Loss: 0.3508, Val Loss: 0.3509, Train Acc: 85.62%, Val Acc: 85.71%\n",
      "Epoch 3/10 | Train Loss: 0.3400, Val Loss: 0.3519, Train Acc: 86.18%, Val Acc: 85.72%\n",
      "Epoch 4/10 | Train Loss: 0.3326, Val Loss: 0.3544, Train Acc: 86.48%, Val Acc: 85.59%\n",
      "Epoch 5/10 | Train Loss: 0.3269, Val Loss: 0.3567, Train Acc: 86.78%, Val Acc: 85.47%\n",
      "Epoch 6/10 | Train Loss: 0.3228, Val Loss: 0.3568, Train Acc: 86.97%, Val Acc: 85.29%\n",
      "Epoch 7/10 | Train Loss: 0.3148, Val Loss: 0.3589, Train Acc: 87.36%, Val Acc: 85.41%\n",
      "Epoch 8/10 | Train Loss: 0.3082, Val Loss: 0.3613, Train Acc: 87.64%, Val Acc: 85.24%\n",
      "Epoch 9/10 | Train Loss: 0.3070, Val Loss: 0.3651, Train Acc: 87.71%, Val Acc: 84.97%\n"
     ]
    },
    {
     "name": "stderr",
     "output_type": "stream",
     "text": [
      " 25%|██▌       | 2/8 [04:15<13:54, 139.02s/it]"
     ]
    },
    {
     "name": "stdout",
     "output_type": "stream",
     "text": [
      "Epoch 10/10 | Train Loss: 0.3039, Val Loss: 0.3685, Train Acc: 87.84%, Val Acc: 84.95%\n",
      "\n",
      "Training: hidden_dim=64, batch_size=32, epochs=3\n",
      "Epoch 1/3 | Train Loss: 0.3687, Val Loss: 0.3567, Train Acc: 84.59%, Val Acc: 85.18%\n",
      "Epoch 2/3 | Train Loss: 0.3451, Val Loss: 0.3415, Train Acc: 86.10%, Val Acc: 86.30%\n"
     ]
    },
    {
     "name": "stderr",
     "output_type": "stream",
     "text": [
      " 38%|███▊      | 3/8 [04:54<07:46, 93.33s/it] "
     ]
    },
    {
     "name": "stdout",
     "output_type": "stream",
     "text": [
      "Epoch 3/3 | Train Loss: 0.3284, Val Loss: 0.3397, Train Acc: 86.82%, Val Acc: 86.28%\n",
      "\n",
      "Training: hidden_dim=64, batch_size=32, epochs=10\n",
      "Epoch 1/10 | Train Loss: 0.3715, Val Loss: 0.3617, Train Acc: 84.38%, Val Acc: 84.96%\n",
      "Epoch 2/10 | Train Loss: 0.3505, Val Loss: 0.3490, Train Acc: 85.66%, Val Acc: 85.78%\n",
      "Epoch 3/10 | Train Loss: 0.3348, Val Loss: 0.3476, Train Acc: 86.39%, Val Acc: 85.95%\n",
      "Epoch 4/10 | Train Loss: 0.3241, Val Loss: 0.3458, Train Acc: 86.78%, Val Acc: 85.65%\n",
      "Epoch 5/10 | Train Loss: 0.3132, Val Loss: 0.3461, Train Acc: 87.32%, Val Acc: 85.68%\n",
      "Epoch 6/10 | Train Loss: 0.3041, Val Loss: 0.3448, Train Acc: 87.77%, Val Acc: 85.85%\n",
      "Epoch 7/10 | Train Loss: 0.2958, Val Loss: 0.3504, Train Acc: 88.12%, Val Acc: 85.41%\n",
      "Epoch 8/10 | Train Loss: 0.2909, Val Loss: 0.3524, Train Acc: 88.34%, Val Acc: 85.50%\n",
      "Epoch 9/10 | Train Loss: 0.2849, Val Loss: 0.3560, Train Acc: 88.60%, Val Acc: 85.46%\n"
     ]
    },
    {
     "name": "stderr",
     "output_type": "stream",
     "text": [
      " 50%|█████     | 4/8 [06:59<07:03, 105.77s/it]"
     ]
    },
    {
     "name": "stdout",
     "output_type": "stream",
     "text": [
      "Epoch 10/10 | Train Loss: 0.2793, Val Loss: 0.3598, Train Acc: 88.95%, Val Acc: 85.35%\n",
      "\n",
      "Training: hidden_dim=128, batch_size=16, epochs=3\n",
      "Epoch 1/3 | Train Loss: 0.3591, Val Loss: 0.3414, Train Acc: 85.31%, Val Acc: 86.34%\n",
      "Epoch 2/3 | Train Loss: 0.3382, Val Loss: 0.3398, Train Acc: 86.47%, Val Acc: 86.42%\n"
     ]
    },
    {
     "name": "stderr",
     "output_type": "stream",
     "text": [
      " 62%|██████▎   | 5/8 [08:20<04:50, 96.89s/it] "
     ]
    },
    {
     "name": "stdout",
     "output_type": "stream",
     "text": [
      "Epoch 3/3 | Train Loss: 0.3307, Val Loss: 0.3365, Train Acc: 86.68%, Val Acc: 86.52%\n",
      "\n",
      "Training: hidden_dim=128, batch_size=16, epochs=10\n",
      "Epoch 1/10 | Train Loss: 0.3670, Val Loss: 0.3547, Train Acc: 84.73%, Val Acc: 85.55%\n",
      "Epoch 2/10 | Train Loss: 0.3469, Val Loss: 0.3463, Train Acc: 85.91%, Val Acc: 85.98%\n",
      "Epoch 3/10 | Train Loss: 0.3341, Val Loss: 0.3453, Train Acc: 86.46%, Val Acc: 86.00%\n",
      "Epoch 4/10 | Train Loss: 0.3252, Val Loss: 0.3416, Train Acc: 86.80%, Val Acc: 86.17%\n",
      "Epoch 5/10 | Train Loss: 0.3194, Val Loss: 0.3439, Train Acc: 87.00%, Val Acc: 86.03%\n",
      "Epoch 6/10 | Train Loss: 0.3127, Val Loss: 0.3483, Train Acc: 87.36%, Val Acc: 85.81%\n",
      "Epoch 7/10 | Train Loss: 0.3101, Val Loss: 0.3475, Train Acc: 87.49%, Val Acc: 85.82%\n",
      "Epoch 8/10 | Train Loss: 0.3067, Val Loss: 0.3545, Train Acc: 87.67%, Val Acc: 85.56%\n",
      "Epoch 9/10 | Train Loss: 0.3035, Val Loss: 0.3546, Train Acc: 87.78%, Val Acc: 85.43%\n"
     ]
    },
    {
     "name": "stderr",
     "output_type": "stream",
     "text": [
      " 75%|███████▌  | 6/8 [12:48<05:10, 155.18s/it]"
     ]
    },
    {
     "name": "stdout",
     "output_type": "stream",
     "text": [
      "Epoch 10/10 | Train Loss: 0.2993, Val Loss: 0.3493, Train Acc: 87.97%, Val Acc: 85.77%\n",
      "\n",
      "Training: hidden_dim=128, batch_size=32, epochs=3\n",
      "Epoch 1/3 | Train Loss: 0.3660, Val Loss: 0.3514, Train Acc: 84.86%, Val Acc: 85.71%\n",
      "Epoch 2/3 | Train Loss: 0.3442, Val Loss: 0.3439, Train Acc: 86.02%, Val Acc: 86.15%\n"
     ]
    },
    {
     "name": "stderr",
     "output_type": "stream",
     "text": [
      " 88%|████████▊ | 7/8 [13:51<02:04, 124.90s/it]"
     ]
    },
    {
     "name": "stdout",
     "output_type": "stream",
     "text": [
      "Epoch 3/3 | Train Loss: 0.3295, Val Loss: 0.3366, Train Acc: 86.61%, Val Acc: 86.27%\n",
      "\n",
      "Training: hidden_dim=128, batch_size=32, epochs=10\n",
      "Epoch 1/10 | Train Loss: 0.3711, Val Loss: 0.3648, Train Acc: 84.38%, Val Acc: 84.58%\n",
      "Epoch 2/10 | Train Loss: 0.3519, Val Loss: 0.3475, Train Acc: 85.48%, Val Acc: 85.81%\n",
      "Epoch 3/10 | Train Loss: 0.3321, Val Loss: 0.3375, Train Acc: 86.47%, Val Acc: 86.32%\n",
      "Epoch 4/10 | Train Loss: 0.3163, Val Loss: 0.3363, Train Acc: 87.16%, Val Acc: 86.35%\n",
      "Epoch 5/10 | Train Loss: 0.3060, Val Loss: 0.3367, Train Acc: 87.65%, Val Acc: 86.33%\n",
      "Epoch 6/10 | Train Loss: 0.2969, Val Loss: 0.3359, Train Acc: 88.05%, Val Acc: 86.37%\n",
      "Epoch 7/10 | Train Loss: 0.2895, Val Loss: 0.3414, Train Acc: 88.42%, Val Acc: 86.16%\n",
      "Epoch 8/10 | Train Loss: 0.2809, Val Loss: 0.3422, Train Acc: 88.87%, Val Acc: 86.14%\n",
      "Epoch 9/10 | Train Loss: 0.2737, Val Loss: 0.3440, Train Acc: 89.15%, Val Acc: 86.06%\n"
     ]
    },
    {
     "name": "stderr",
     "output_type": "stream",
     "text": [
      "100%|██████████| 8/8 [17:07<00:00, 128.38s/it]"
     ]
    },
    {
     "name": "stdout",
     "output_type": "stream",
     "text": [
      "Epoch 10/10 | Train Loss: 0.2693, Val Loss: 0.3510, Train Acc: 89.35%, Val Acc: 85.93%\n",
      "\n",
      "✅ Best configuration:\n",
      "Hidden Dim: 128, Batch Size: 16, Epochs: 3\n",
      "Validation Accuracy: 86.52%\n"
     ]
    },
    {
     "name": "stderr",
     "output_type": "stream",
     "text": [
      "\n"
     ]
    },
    {
     "data": {
      "image/png": "[encoded data removed]",
      "text/plain": [
       "<Figure size 1200x600 with 2 Axes>"
      ]
     },
     "metadata": {},
     "output_type": "display_data"
    }
   ],
   "source": [
    "best_config, best_history, best_model = run_grid_search(df_train_ekman, df_val_ekman, vocab)\n",
    "plot_training_history(best_history)\n",
    "\n"
   ]
  },
  {
   "cell_type": "code",
   "execution_count": 23,
   "id": "2bf23640",
   "metadata": {},
   "outputs": [
    {
     "name": "stderr",
     "output_type": "stream",
     "text": [
      "  0%|          | 0/8 [00:00<?, ?it/s]"
     ]
    },
    {
     "name": "stdout",
     "output_type": "stream",
     "text": [
      "\n",
      "Training: hidden_dim=64, batch_size=16, epochs=3\n",
      "Epoch 1/3 | Train Loss: 0.3628, Val Loss: 0.3502, Train Acc: 85.17%, Val Acc: 85.97%\n",
      "Epoch 2/3 | Train Loss: 0.3378, Val Loss: 0.3398, Train Acc: 86.37%, Val Acc: 86.29%\n"
     ]
    },
    {
     "name": "stderr",
     "output_type": "stream",
     "text": [
      " 12%|█▎        | 1/8 [01:04<07:30, 64.35s/it]"
     ]
    },
    {
     "name": "stdout",
     "output_type": "stream",
     "text": [
      "Epoch 3/3 | Train Loss: 0.3245, Val Loss: 0.3371, Train Acc: 86.92%, Val Acc: 86.48%\n",
      "\n",
      "Training: hidden_dim=64, batch_size=16, epochs=10\n",
      "Epoch 1/10 | Train Loss: 0.3693, Val Loss: 0.3614, Train Acc: 84.35%, Val Acc: 85.00%\n",
      "Epoch 2/10 | Train Loss: 0.3539, Val Loss: 0.3537, Train Acc: 85.45%, Val Acc: 85.53%\n",
      "Epoch 3/10 | Train Loss: 0.3427, Val Loss: 0.3547, Train Acc: 86.05%, Val Acc: 85.62%\n",
      "Epoch 4/10 | Train Loss: 0.3339, Val Loss: 0.3581, Train Acc: 86.40%, Val Acc: 85.41%\n",
      "Epoch 5/10 | Train Loss: 0.3276, Val Loss: 0.3557, Train Acc: 86.70%, Val Acc: 85.52%\n",
      "Epoch 6/10 | Train Loss: 0.3216, Val Loss: 0.3582, Train Acc: 87.01%, Val Acc: 85.52%\n",
      "Epoch 7/10 | Train Loss: 0.3152, Val Loss: 0.3643, Train Acc: 87.27%, Val Acc: 84.98%\n",
      "Epoch 8/10 | Train Loss: 0.3106, Val Loss: 0.3624, Train Acc: 87.55%, Val Acc: 85.28%\n",
      "Epoch 9/10 | Train Loss: 0.3074, Val Loss: 0.3589, Train Acc: 87.74%, Val Acc: 85.34%\n"
     ]
    },
    {
     "name": "stderr",
     "output_type": "stream",
     "text": [
      " 25%|██▌       | 2/8 [04:14<13:49, 138.27s/it]"
     ]
    },
    {
     "name": "stdout",
     "output_type": "stream",
     "text": [
      "Epoch 10/10 | Train Loss: 0.3050, Val Loss: 0.3651, Train Acc: 87.80%, Val Acc: 85.14%\n",
      "\n",
      "Training: hidden_dim=64, batch_size=32, epochs=3\n",
      "Epoch 1/3 | Train Loss: 0.3708, Val Loss: 0.3643, Train Acc: 84.41%, Val Acc: 84.73%\n",
      "Epoch 2/3 | Train Loss: 0.3493, Val Loss: 0.3445, Train Acc: 85.71%, Val Acc: 86.21%\n"
     ]
    },
    {
     "name": "stderr",
     "output_type": "stream",
     "text": [
      " 38%|███▊      | 3/8 [04:51<07:41, 92.20s/it] "
     ]
    },
    {
     "name": "stdout",
     "output_type": "stream",
     "text": [
      "Epoch 3/3 | Train Loss: 0.3296, Val Loss: 0.3408, Train Acc: 86.67%, Val Acc: 86.32%\n",
      "\n",
      "Training: hidden_dim=64, batch_size=32, epochs=10\n",
      "Epoch 1/10 | Train Loss: 0.3711, Val Loss: 0.3584, Train Acc: 84.44%, Val Acc: 85.30%\n",
      "Epoch 2/10 | Train Loss: 0.3446, Val Loss: 0.3417, Train Acc: 86.07%, Val Acc: 86.29%\n",
      "Epoch 3/10 | Train Loss: 0.3259, Val Loss: 0.3375, Train Acc: 86.85%, Val Acc: 86.30%\n",
      "Epoch 4/10 | Train Loss: 0.3099, Val Loss: 0.3393, Train Acc: 87.44%, Val Acc: 86.09%\n",
      "Epoch 5/10 | Train Loss: 0.3003, Val Loss: 0.3435, Train Acc: 87.96%, Val Acc: 85.81%\n",
      "Epoch 6/10 | Train Loss: 0.2899, Val Loss: 0.3430, Train Acc: 88.40%, Val Acc: 86.09%\n",
      "Epoch 7/10 | Train Loss: 0.2807, Val Loss: 0.3495, Train Acc: 88.86%, Val Acc: 85.95%\n",
      "Epoch 8/10 | Train Loss: 0.2732, Val Loss: 0.3498, Train Acc: 89.26%, Val Acc: 85.85%\n",
      "Epoch 9/10 | Train Loss: 0.2655, Val Loss: 0.3516, Train Acc: 89.54%, Val Acc: 85.80%\n"
     ]
    },
    {
     "name": "stderr",
     "output_type": "stream",
     "text": [
      " 50%|█████     | 4/8 [06:52<06:53, 103.29s/it]"
     ]
    },
    {
     "name": "stdout",
     "output_type": "stream",
     "text": [
      "Epoch 10/10 | Train Loss: 0.2592, Val Loss: 0.3542, Train Acc: 89.84%, Val Acc: 85.79%\n",
      "\n",
      "Training: hidden_dim=128, batch_size=16, epochs=3\n",
      "Epoch 1/3 | Train Loss: 0.3568, Val Loss: 0.3407, Train Acc: 85.36%, Val Acc: 86.36%\n",
      "Epoch 2/3 | Train Loss: 0.3347, Val Loss: 0.3340, Train Acc: 86.57%, Val Acc: 86.64%\n"
     ]
    },
    {
     "name": "stderr",
     "output_type": "stream",
     "text": [
      " 62%|██████▎   | 5/8 [08:12<04:45, 95.22s/it] "
     ]
    },
    {
     "name": "stdout",
     "output_type": "stream",
     "text": [
      "Epoch 3/3 | Train Loss: 0.3260, Val Loss: 0.3317, Train Acc: 86.91%, Val Acc: 86.66%\n",
      "\n",
      "Training: hidden_dim=128, batch_size=16, epochs=10\n",
      "Epoch 1/10 | Train Loss: 0.3663, Val Loss: 0.3535, Train Acc: 84.67%, Val Acc: 85.51%\n",
      "Epoch 2/10 | Train Loss: 0.3430, Val Loss: 0.3447, Train Acc: 86.11%, Val Acc: 86.18%\n",
      "Epoch 3/10 | Train Loss: 0.3319, Val Loss: 0.3414, Train Acc: 86.63%, Val Acc: 86.26%\n",
      "Epoch 4/10 | Train Loss: 0.3225, Val Loss: 0.3402, Train Acc: 87.00%, Val Acc: 86.31%\n",
      "Epoch 5/10 | Train Loss: 0.3183, Val Loss: 0.3447, Train Acc: 87.10%, Val Acc: 86.02%\n",
      "Epoch 6/10 | Train Loss: 0.3136, Val Loss: 0.3439, Train Acc: 87.34%, Val Acc: 85.94%\n",
      "Epoch 7/10 | Train Loss: 0.3063, Val Loss: 0.3436, Train Acc: 87.69%, Val Acc: 86.13%\n",
      "Epoch 8/10 | Train Loss: 0.3019, Val Loss: 0.3425, Train Acc: 87.89%, Val Acc: 86.17%\n",
      "Epoch 9/10 | Train Loss: 0.2979, Val Loss: 0.3459, Train Acc: 88.14%, Val Acc: 86.06%\n"
     ]
    },
    {
     "name": "stderr",
     "output_type": "stream",
     "text": [
      " 75%|███████▌  | 6/8 [12:23<04:56, 148.06s/it]"
     ]
    },
    {
     "name": "stdout",
     "output_type": "stream",
     "text": [
      "Epoch 10/10 | Train Loss: 0.2942, Val Loss: 0.3481, Train Acc: 88.32%, Val Acc: 86.00%\n",
      "\n",
      "Training: hidden_dim=128, batch_size=32, epochs=3\n",
      "Epoch 1/3 | Train Loss: 0.3686, Val Loss: 0.3513, Train Acc: 84.50%, Val Acc: 85.78%\n",
      "Epoch 2/3 | Train Loss: 0.3384, Val Loss: 0.3344, Train Acc: 86.36%, Val Acc: 86.61%\n"
     ]
    },
    {
     "name": "stderr",
     "output_type": "stream",
     "text": [
      " 88%|████████▊ | 7/8 [13:23<01:59, 119.34s/it]"
     ]
    },
    {
     "name": "stdout",
     "output_type": "stream",
     "text": [
      "Epoch 3/3 | Train Loss: 0.3233, Val Loss: 0.3345, Train Acc: 87.04%, Val Acc: 86.61%\n",
      "\n",
      "Training: hidden_dim=128, batch_size=32, epochs=10\n",
      "Epoch 1/10 | Train Loss: 0.3676, Val Loss: 0.3520, Train Acc: 84.69%, Val Acc: 85.87%\n",
      "Epoch 2/10 | Train Loss: 0.3399, Val Loss: 0.3378, Train Acc: 86.38%, Val Acc: 86.44%\n",
      "Epoch 3/10 | Train Loss: 0.3269, Val Loss: 0.3353, Train Acc: 86.91%, Val Acc: 86.63%\n",
      "Epoch 4/10 | Train Loss: 0.3150, Val Loss: 0.3376, Train Acc: 87.36%, Val Acc: 86.36%\n",
      "Epoch 5/10 | Train Loss: 0.3071, Val Loss: 0.3339, Train Acc: 87.72%, Val Acc: 86.48%\n",
      "Epoch 6/10 | Train Loss: 0.2980, Val Loss: 0.3387, Train Acc: 88.10%, Val Acc: 86.24%\n",
      "Epoch 7/10 | Train Loss: 0.2902, Val Loss: 0.3397, Train Acc: 88.44%, Val Acc: 86.31%\n",
      "Epoch 8/10 | Train Loss: 0.2831, Val Loss: 0.3426, Train Acc: 88.77%, Val Acc: 86.16%\n",
      "Epoch 9/10 | Train Loss: 0.2758, Val Loss: 0.3472, Train Acc: 89.09%, Val Acc: 85.98%\n"
     ]
    },
    {
     "name": "stderr",
     "output_type": "stream",
     "text": [
      "100%|██████████| 8/8 [16:28<00:00, 123.50s/it]"
     ]
    },
    {
     "name": "stdout",
     "output_type": "stream",
     "text": [
      "Epoch 10/10 | Train Loss: 0.2693, Val Loss: 0.3521, Train Acc: 89.32%, Val Acc: 85.94%\n",
      "\n",
      "✅ Best configuration:\n",
      "Hidden Dim: 128, Batch Size: 16, Epochs: 3\n",
      "Validation Accuracy: 86.66%\n"
     ]
    },
    {
     "name": "stderr",
     "output_type": "stream",
     "text": [
      "\n"
     ]
    },
    {
     "name": "stdout",
     "output_type": "stream",
     "text": [
      "\n",
      "Classification Report (Multi-label, Test Set):\n",
      "              precision    recall  f1-score   support\n",
      "\n",
      "       anger       0.12      0.00      0.00      1588\n",
      "     disgust       0.00      0.00      0.00       258\n",
      "        fear       0.00      0.00      0.00       254\n",
      "         joy       0.77      0.57      0.65      4728\n",
      "     neutral       0.32      0.02      0.04      3144\n",
      "     sadness       0.40      0.01      0.02      1010\n",
      "    surprise       0.54      0.19      0.28      1608\n",
      "\n",
      "   micro avg       0.71      0.24      0.36     12590\n",
      "   macro avg       0.31      0.11      0.14     12590\n",
      "weighted avg       0.48      0.24      0.29     12590\n",
      " samples avg       0.26      0.25      0.25     12590\n",
      "\n"
     ]
    }
   ],
   "source": [
    "from sklearn.metrics import classification_report\n",
    "\n",
    "# Unpack the best configuration\n",
    "best_config, best_history, best_model = run_grid_search(df_train_ekman, df_val_ekman, vocab)\n",
    "\n",
    "# Prepare test loader using the best batch size\n",
    "_, best_batch_size, _ = best_config\n",
    "test_loader = DataLoader(EmotionDataset(df_test_ekman), batch_size=best_batch_size, collate_fn=collate_fn)\n",
    "\n",
    "# Evaluate on test set\n",
    "best_model.eval()\n",
    "all_labels = []\n",
    "all_preds = []\n",
    "\n",
    "with torch.no_grad():\n",
    "    for X_batch, y_batch in test_loader:\n",
    "        X_batch, y_batch = X_batch.to(device), y_batch.to(device)\n",
    "        outputs = best_model(X_batch)\n",
    "        preds = (outputs > 0.5).float()\n",
    "        all_labels.extend(y_batch.cpu().numpy())\n",
    "        all_preds.extend(preds.cpu().numpy())\n",
    "\n",
    "# Convert to arrays\n",
    "all_labels = np.array(all_labels)\n",
    "all_preds = np.array(all_preds)\n",
    "\n",
    "# Define class names\n",
    "class_names = ['anger', 'disgust', 'fear', 'joy', 'neutral', 'sadness', 'surprise']\n",
    "\n",
    "# Print detailed classification report\n",
    "print(\"\\nClassification Report (Multi-label, Test Set):\")\n",
    "print(classification_report(all_labels, all_preds, target_names=class_names, zero_division=0))\n",
    "\n",
    "\n"
   ]
  }
 ],
 "metadata": {
  "kernelspec": {
   "display_name": "base",
   "language": "python",
   "name": "python3"
  },
  "language_info": {
   "codemirror_mode": {
    "name": "ipython",
    "version": 3
   },
   "file_extension": ".py",
   "mimetype": "text/x-python",
   "name": "python",
   "nbconvert_exporter": "python",
   "pygments_lexer": "ipython3",
   "version": "3.11.5"
  }
 },
 "nbformat": 4,
 "nbformat_minor": 5
}
