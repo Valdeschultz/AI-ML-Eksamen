{
 "cells": [
  {
   "cell_type": "code",
   "execution_count": 2,
   "id": "3c20971e",
   "metadata": {},
   "outputs": [],
   "source": [
    "import pandas as pd\n",
    "import json\n",
    "from sklearn.utils import resample\n",
    "import numpy as np"
   ]
  },
  {
   "cell_type": "code",
   "execution_count": 3,
   "id": "89c753f1",
   "metadata": {},
   "outputs": [],
   "source": [
    "# Load the goemotions_1.csv file into a pandas DataFrame\n",
    "goemotions_1_df = pd.read_csv(\"data/goemotions1.csv\")\n",
    "goemotions_2_df = pd.read_csv(\"data/goemotions2.csv\")\n",
    "goemotions_3_df = pd.read_csv(\"data/goemotions3.csv\")\n",
    "\n",
    "\n",
    "# Combine the datasets into a single DataFrame\n",
    "# Load the emotions.txt file into a pandas DataFrame\n",
    "emotions_df = pd.read_csv(\"data/emotions.txt\", header=None, names=[\"emotion\"])\n",
    "\n",
    "# Combine the datasets into a single DataFrame\n",
    "combined_df = pd.concat([goemotions_1_df, goemotions_2_df, goemotions_3_df], ignore_index=True)"
   ]
  },
  {
   "cell_type": "code",
   "execution_count": 4,
   "id": "e9716687",
   "metadata": {},
   "outputs": [
    {
     "name": "stdout",
     "output_type": "stream",
     "text": [
      "Features in combined_df:\n",
      "- text\n",
      "- id\n",
      "- author\n",
      "- subreddit\n",
      "- link_id\n",
      "- parent_id\n",
      "- created_utc\n",
      "- rater_id\n",
      "- example_very_unclear\n",
      "- admiration\n",
      "- amusement\n",
      "- anger\n",
      "- annoyance\n",
      "- approval\n",
      "- caring\n",
      "- confusion\n",
      "- curiosity\n",
      "- desire\n",
      "- disappointment\n",
      "- disapproval\n",
      "- disgust\n",
      "- embarrassment\n",
      "- excitement\n",
      "- fear\n",
      "- gratitude\n",
      "- grief\n",
      "- joy\n",
      "- love\n",
      "- nervousness\n",
      "- optimism\n",
      "- pride\n",
      "- realization\n",
      "- relief\n",
      "- remorse\n",
      "- sadness\n",
      "- surprise\n",
      "- neutral\n"
     ]
    }
   ],
   "source": [
    "# Print a nicely formatted list of all features in combined_df\n",
    "print(\"Features in combined_df:\")\n",
    "for feature in combined_df.columns:\n",
    "    print(f\"- {feature}\")"
   ]
  },
  {
   "cell_type": "code",
   "execution_count": 5,
   "id": "3bfbd3ab",
   "metadata": {},
   "outputs": [
    {
     "name": "stdout",
     "output_type": "stream",
     "text": [
      "Features in combined_df:\n",
      "- text\n",
      "- admiration\n",
      "- amusement\n",
      "- anger\n",
      "- annoyance\n",
      "- approval\n",
      "- caring\n",
      "- confusion\n",
      "- curiosity\n",
      "- desire\n",
      "- disappointment\n",
      "- disapproval\n",
      "- disgust\n",
      "- embarrassment\n",
      "- excitement\n",
      "- fear\n",
      "- gratitude\n",
      "- grief\n",
      "- joy\n",
      "- love\n",
      "- nervousness\n",
      "- optimism\n",
      "- pride\n",
      "- realization\n",
      "- relief\n",
      "- remorse\n",
      "- sadness\n",
      "- surprise\n",
      "- neutral\n"
     ]
    }
   ],
   "source": [
    "# Remove the specified features from combined_df\n",
    "features_to_remove = ['author', 'id', 'subreddit', 'link_id', 'parent_id', 'created_utc', 'rater_id', 'example_very_unclear']\n",
    "combined_df = combined_df.drop(columns=features_to_remove)\n",
    "\n",
    "#remove duplicates\n",
    "#full obeservation duplicates  \n",
    "combined_df = combined_df.drop_duplicates()\n",
    "#text duplicates\n",
    "combined_df = combined_df.drop_duplicates(subset='text')\n",
    "\n",
    "print(\"Features in combined_df:\")\n",
    "for feature in combined_df.columns:\n",
    "    print(f\"- {feature}\")\n"
   ]
  },
  {
   "cell_type": "code",
   "execution_count": 6,
   "id": "4722d594",
   "metadata": {},
   "outputs": [],
   "source": [
    "import pandas as pd\n",
    "import json\n",
    "from sklearn.utils import resample\n",
    "import numpy as np\n",
    "import pandas as pd\n",
    "import json\n",
    "\n",
    "def map_to_ekman(df: pd.DataFrame,\n",
    "                 emotions_file: str,\n",
    "                 mapping_file: str,\n",
    "                 id_cols: list = None) -> pd.DataFrame:\n",
    "\n",
    "    # 1) Load the GoEmotions label names\n",
    "    with open(emotions_file, 'r') as f:\n",
    "        go_labels = f.read().splitlines()\n",
    "    \n",
    "    # 2) Identify which columns to preserve\n",
    "    if id_cols is None:\n",
    "        id_cols = [df.columns[0], df.columns[1]]\n",
    "    \n",
    "    # 3) Extract & rename the 27 numeric columns\n",
    "    numeric = df.drop(columns=id_cols).copy()\n",
    "    if len(numeric.columns) != len(go_labels):\n",
    "        raise ValueError(f\"Expected {len(go_labels)} numeric cols, got {len(numeric.columns)}\")\n",
    "    numeric.columns = go_labels\n",
    "    \n",
    "    # 4) Load Ekman mapping and invert it so go_label → ekman_label\n",
    "    with open(mapping_file, 'r') as f:\n",
    "        ekman_to_go = json.load(f)\n",
    "    go_to_ekman = {go: ek for ek, gos in ekman_to_go.items() for go in gos}\n",
    "    \n",
    "    # 5) Rename each GoEmotions column to its Ekman bucket\n",
    "    numeric = numeric.rename(columns=go_to_ekman)\n",
    "    \n",
    "    # 6) Sum together any duplicate-ekman columns\n",
    "    numeric = numeric.groupby(numeric.columns, axis=1).sum()\n",
    "    \n",
    "    # 7) Binarize: any positive → 1\n",
    "    numeric = (numeric > 0).astype(int)\n",
    "    \n",
    "    # 😎 Re-assemble\n",
    "    return pd.concat([df[id_cols].reset_index(drop=True),\n",
    "                      numeric.reset_index(drop=True)],\n",
    "                     axis=1)"
   ]
  },
  {
   "cell_type": "code",
   "execution_count": 7,
   "id": "77d89dd4",
   "metadata": {},
   "outputs": [],
   "source": [
    "combined_path = combined_df.to_csv('data/combined.csv', index=False)\n"
   ]
  },
  {
   "cell_type": "code",
   "execution_count": 8,
   "id": "b54b6652",
   "metadata": {},
   "outputs": [
    {
     "data": {
      "application/vnd.microsoft.datawrangler.viewer.v0+json": {
       "columns": [
        {
         "name": "index",
         "rawType": "int64",
         "type": "integer"
        },
        {
         "name": "text",
         "rawType": "object",
         "type": "string"
        },
        {
         "name": "anger",
         "rawType": "int64",
         "type": "integer"
        },
        {
         "name": "disgust",
         "rawType": "int64",
         "type": "integer"
        },
        {
         "name": "fear",
         "rawType": "int64",
         "type": "integer"
        },
        {
         "name": "joy",
         "rawType": "int64",
         "type": "integer"
        },
        {
         "name": "neutral",
         "rawType": "int64",
         "type": "integer"
        },
        {
         "name": "sadness",
         "rawType": "int64",
         "type": "integer"
        },
        {
         "name": "surprise",
         "rawType": "int64",
         "type": "integer"
        }
       ],
       "conversionMethod": "pd.DataFrame",
       "ref": "c3fd1d56-8f83-4c4b-a1df-36e6b3cfa38c",
       "rows": [
        [
         "0",
         "That game hurt.",
         "0",
         "0",
         "0",
         "0",
         "0",
         "1",
         "0"
        ],
        [
         "1",
         " >sexuality shouldn’t be a grouping category It makes you different from othet ppl so imo it fits the definition of \"grouping\" ",
         "0",
         "0",
         "0",
         "0",
         "0",
         "0",
         "0"
        ],
        [
         "2",
         "You do right, if you don't care then fuck 'em!",
         "0",
         "0",
         "0",
         "0",
         "1",
         "0",
         "0"
        ],
        [
         "3",
         "Man I love reddit.",
         "0",
         "0",
         "0",
         "1",
         "0",
         "0",
         "0"
        ],
        [
         "4",
         "[NAME] was nowhere near them, he was by the Falcon. ",
         "0",
         "0",
         "0",
         "0",
         "1",
         "0",
         "0"
        ]
       ],
       "shape": {
        "columns": 8,
        "rows": 5
       }
      },
      "text/html": [
       "<div>\n",
       "<style scoped>\n",
       "    .dataframe tbody tr th:only-of-type {\n",
       "        vertical-align: middle;\n",
       "    }\n",
       "\n",
       "    .dataframe tbody tr th {\n",
       "        vertical-align: top;\n",
       "    }\n",
       "\n",
       "    .dataframe thead th {\n",
       "        text-align: right;\n",
       "    }\n",
       "</style>\n",
       "<table border=\"1\" class=\"dataframe\">\n",
       "  <thead>\n",
       "    <tr style=\"text-align: right;\">\n",
       "      <th></th>\n",
       "      <th>text</th>\n",
       "      <th>anger</th>\n",
       "      <th>disgust</th>\n",
       "      <th>fear</th>\n",
       "      <th>joy</th>\n",
       "      <th>neutral</th>\n",
       "      <th>sadness</th>\n",
       "      <th>surprise</th>\n",
       "    </tr>\n",
       "  </thead>\n",
       "  <tbody>\n",
       "    <tr>\n",
       "      <th>0</th>\n",
       "      <td>That game hurt.</td>\n",
       "      <td>0</td>\n",
       "      <td>0</td>\n",
       "      <td>0</td>\n",
       "      <td>0</td>\n",
       "      <td>0</td>\n",
       "      <td>1</td>\n",
       "      <td>0</td>\n",
       "    </tr>\n",
       "    <tr>\n",
       "      <th>1</th>\n",
       "      <td>&gt;sexuality shouldn’t be a grouping category I...</td>\n",
       "      <td>0</td>\n",
       "      <td>0</td>\n",
       "      <td>0</td>\n",
       "      <td>0</td>\n",
       "      <td>0</td>\n",
       "      <td>0</td>\n",
       "      <td>0</td>\n",
       "    </tr>\n",
       "    <tr>\n",
       "      <th>2</th>\n",
       "      <td>You do right, if you don't care then fuck 'em!</td>\n",
       "      <td>0</td>\n",
       "      <td>0</td>\n",
       "      <td>0</td>\n",
       "      <td>0</td>\n",
       "      <td>1</td>\n",
       "      <td>0</td>\n",
       "      <td>0</td>\n",
       "    </tr>\n",
       "    <tr>\n",
       "      <th>3</th>\n",
       "      <td>Man I love reddit.</td>\n",
       "      <td>0</td>\n",
       "      <td>0</td>\n",
       "      <td>0</td>\n",
       "      <td>1</td>\n",
       "      <td>0</td>\n",
       "      <td>0</td>\n",
       "      <td>0</td>\n",
       "    </tr>\n",
       "    <tr>\n",
       "      <th>4</th>\n",
       "      <td>[NAME] was nowhere near them, he was by the Fa...</td>\n",
       "      <td>0</td>\n",
       "      <td>0</td>\n",
       "      <td>0</td>\n",
       "      <td>0</td>\n",
       "      <td>1</td>\n",
       "      <td>0</td>\n",
       "      <td>0</td>\n",
       "    </tr>\n",
       "  </tbody>\n",
       "</table>\n",
       "</div>"
      ],
      "text/plain": [
       "                                                text  anger  disgust  fear  \\\n",
       "0                                    That game hurt.      0        0     0   \n",
       "1   >sexuality shouldn’t be a grouping category I...      0        0     0   \n",
       "2     You do right, if you don't care then fuck 'em!      0        0     0   \n",
       "3                                 Man I love reddit.      0        0     0   \n",
       "4  [NAME] was nowhere near them, he was by the Fa...      0        0     0   \n",
       "\n",
       "   joy  neutral  sadness  surprise  \n",
       "0    0        0        1         0  \n",
       "1    0        0        0         0  \n",
       "2    0        1        0         0  \n",
       "3    1        0        0         0  \n",
       "4    0        1        0         0  "
      ]
     },
     "execution_count": 8,
     "metadata": {},
     "output_type": "execute_result"
    }
   ],
   "source": [
    "emotions_txt = 'data/emotions.txt'\n",
    "mapping_json = 'data/ekman_mapping.json'\n",
    "combined_pd = 'data/combined.csv'\n",
    "\n",
    "combined_ekman = map_to_ekman(\n",
    "    combined_df,\n",
    "    emotions_file=emotions_txt,\n",
    "    mapping_file=mapping_json,\n",
    "    id_cols=['text']       # if your df only has a \"text\" col before the 27 one-hots\n",
    ")\n",
    "\n",
    "# Now combined_ekman has one column \"text\" plus 6 columns: anger, disgust, fear, joy, sadness, surprise\n",
    "combined_ekman.head()"
   ]
  },
  {
   "cell_type": "code",
   "execution_count": 50,
   "id": "1c63d4d6",
   "metadata": {},
   "outputs": [
    {
     "name": "stdout",
     "output_type": "stream",
     "text": [
      "Train set size: 34638\n",
      "Test set size: 11547\n",
      "Validation set size: 11547\n"
     ]
    }
   ],
   "source": [
    "from sklearn.model_selection import train_test_split\n",
    "\n",
    "# Split the data into train, test, and validation sets\n",
    "train, test = train_test_split(combined_ekman, test_size=0.2, random_state=42)\n",
    "train, validation = train_test_split(train, test_size=0.25, random_state=42)  # 0.25 x 0.8 = 0.2\n",
    "\n",
    "# Print the sizes of each set\n",
    "print(f\"Train set size: {len(train)}\")\n",
    "print(f\"Test set size: {len(test)}\")\n",
    "print(f\"Validation set size: {len(validation)}\")"
   ]
  },
  {
   "cell_type": "code",
   "execution_count": 49,
   "id": "591da13d",
   "metadata": {},
   "outputs": [
    {
     "name": "stdout",
     "output_type": "stream",
     "text": [
      "joy         23098\n",
      "neutral     15488\n",
      "surprise     8057\n",
      "anger        8027\n",
      "sadness      4986\n",
      "disgust      1349\n",
      "fear         1210\n",
      "dtype: int64\n"
     ]
    }
   ],
   "source": [
    "# Count the number of rows for each unique emotion based on the emotion columns\n",
    "emotion_columns = ['anger', 'disgust', 'fear', 'joy', 'neutral', 'sadness', 'surprise']\n",
    "\n",
    "# Sum the values for each emotion across all rows\n",
    "emotion_counts = combined_ekman[emotion_columns].sum().sort_values(ascending=False)\n",
    "print(emotion_counts)"
   ]
  }
 ],
 "metadata": {
  "kernelspec": {
   "display_name": "Python (aiml25-ma3)",
   "language": "python",
   "name": "aiml25-ma3"
  },
  "language_info": {
   "codemirror_mode": {
    "name": "ipython",
    "version": 3
   },
   "file_extension": ".py",
   "mimetype": "text/x-python",
   "name": "python",
   "nbconvert_exporter": "python",
   "pygments_lexer": "ipython3",
   "version": "3.11.5"
  }
 },
 "nbformat": 4,
 "nbformat_minor": 5
}
