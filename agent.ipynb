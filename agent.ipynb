{
 "cells": [
  {
   "cell_type": "markdown",
   "id": "3c1dd17b",
   "metadata": {},
   "source": [
    "## Building a router agent to classify text/reviews and draft up a response"
   ]
  },
  {
   "cell_type": "code",
   "execution_count": null,
   "id": "f17f64fe",
   "metadata": {},
   "outputs": [],
   "source": [
    "# built-in libraries\n",
    "import os\n",
    "from typing import Literal, TypedDict,  Any, Optional, Tuple, List, Dict, Union\n",
    "\n",
    "# langgraph libraries\n",
    "from langgraph.graph import StateGraph, START, END\n",
    "from langchain_core.runnables.graph import  MermaidDrawMethod\n",
    "\n",
    "# misc libraries\n",
    "from pydantic import Field\n",
    "from IPython.display import Image\n",
    "import pandas as pd\n",
    "import numpy as np\n",
    "#from decouple import config\n",
    "from ibm_watsonx_ai.metanames import GenTextParamsMetaNames as GenParams\n",
    "from tqdm import tqdm\n",
    "from sklearn.metrics import f1_score\n",
    "\n",
    "\n"
   ]
  },
  {
   "cell_type": "code",
   "execution_count": 33,
   "id": "1373d987",
   "metadata": {},
   "outputs": [
    {
     "name": "stderr",
     "output_type": "stream",
     "text": [
      "[nltk_data] Downloading package punkt to C:\\Users\\Valdemar\n",
      "[nltk_data]     Schultz\\AppData\\Roaming\\nltk_data...\n",
      "[nltk_data]   Package punkt is already up-to-date!\n"
     ]
    },
    {
     "data": {
      "text/plain": [
       "True"
      ]
     },
     "execution_count": 33,
     "metadata": {},
     "output_type": "execute_result"
    }
   ],
   "source": [
    "from datasets import load_dataset\n",
    "from typing import List, Dict\n",
    "from nltk.tokenize import sent_tokenize\n",
    "from collections import defaultdict\n",
    "\n",
    "import nltk\n",
    "nltk.download('punkt')"
   ]
  },
  {
   "cell_type": "code",
   "execution_count": 40,
   "id": "c2f51dc4",
   "metadata": {},
   "outputs": [],
   "source": [
    "from sentence_transformers import SentenceTransformer\n",
    "import numpy as np\n",
    "from sklearn.metrics.pairwise import cosine_similarity\n",
    "from sklearn.metrics import f1_score, precision_score, recall_score"
   ]
  },
  {
   "cell_type": "markdown",
   "id": "5f7acfb8",
   "metadata": {},
   "source": [
    "Watsonx credentials"
   ]
  },
  {
   "cell_type": "code",
   "execution_count": null,
   "id": "e061463d",
   "metadata": {},
   "outputs": [],
   "source": [
    "WX_API_KEY = os.getenv(\"WX_API_KEY\")\n",
    "WX_PROJECT_ID_RAG = os.getenv(\"WX_PROJECT_ID_RAG\")\n",
    "WX_API_URL = \"https://us-south.ml.cloud.ibm.com\"\n",
    "\n"
   ]
  },
  {
   "cell_type": "markdown",
   "id": "da3fddbe",
   "metadata": {},
   "source": [
    "Getting our LLM caller class - Defined in LLM.py"
   ]
  },
  {
   "cell_type": "code",
   "execution_count": null,
   "id": "5c67fe12",
   "metadata": {},
   "outputs": [],
   "source": [
    "\n",
    "model = LLMCaller(\n",
    "    api_key=WX_API_KEY,\n",
    "    project_id=WX_PROJECT_ID_RAG,\n",
    "    api_url=WX_API_URL,\n",
    "    model_id=\"watsonx/ibm/granite-3-8b-instruct\",\n",
    "    params={\n",
    "        GenParams.TEMPERATURE: 0.3,\n",
    "        GenParams.MAX_NEW_TOKENS: 70,\n",
    "    }\n",
    ")"
   ]
  },
  {
   "cell_type": "markdown",
   "id": "3eb2e484",
   "metadata": {},
   "source": [
    "### Creating our few shot examples data set for the LLM to learn from\n",
    "We will use the few shot examples to train the LLM to classify the text and draft a response"
   ]
  },
  {
   "cell_type": "code",
   "execution_count": 24,
   "id": "6a175c23",
   "metadata": {},
   "outputs": [],
   "source": [
    "# 1) Load your CSV\n",
    "csv_path = os.path.join(\"data\", \"ekman_train.csv\")\n",
    "# Expect columns: text, ekman_emotion\n",
    "df = pd.read_csv(csv_path)\n"
   ]
  },
  {
   "cell_type": "markdown",
   "id": "d8a3a89b",
   "metadata": {},
   "source": [
    "creating few shot dataframe"
   ]
  },
  {
   "cell_type": "code",
   "execution_count": null,
   "id": "f43cea49",
   "metadata": {},
   "outputs": [],
   "source": [
    "# Define the order of emotion columns. idxmax will pick the first one if multiple emotions are present.\n",
    "emotion_columns = ['anger', 'disgust', 'fear', 'joy', 'neutral', 'sadness', 'surprise']\n",
    "\n",
    "# Find the emotion for each row.\n",
    "# This creates a new series where each value is the column name of the first '1' found in emotion_columns.\n",
    "df['ekman_emotion'] = df[emotion_columns].idxmax(axis=1)\n",
    "\n",
    "# Recreate the DataFrame with only the 'text' and 'ekman_emotion' columns.\n",
    "# This overwrites the original df, which is expected by the subsequent cells.\n",
    "df = df[['text', 'ekman_emotion']]\n",
    "\n",
    "# You can print the head of the modified DataFrame to verify\n",
    "print(\"Transformed DataFrame head:\")\n",
    "print(df.head())"
   ]
  },
  {
   "cell_type": "markdown",
   "id": "4edbd0b3",
   "metadata": {},
   "source": [
    "Createing my embedding tool"
   ]
  },
  {
   "cell_type": "code",
   "execution_count": 38,
   "id": "e9eaf922",
   "metadata": {},
   "outputs": [
    {
     "name": "stderr",
     "output_type": "stream",
     "text": [
      "Xet Storage is enabled for this repo, but the 'hf_xet' package is not installed. Falling back to regular HTTP download. For better performance, install the package with: `pip install huggingface_hub[hf_xet]` or `pip install hf_xet`\n"
     ]
    }
   ],
   "source": [
    "# 2. Load a local embedding model\n",
    "embed_model = SentenceTransformer(\"all-MiniLM-L6-v2\")\n",
    "\n",
    "# 3. Helper to embed one or more texts\n",
    "def embed(texts):\n",
    "    \"\"\"\n",
    "    texts: a single string or list of strings\n",
    "    returns: numpy array of shape (n_texts, 384)\n",
    "    \"\"\"\n",
    "    # If a single string, wrap it in a list for the model call\n",
    "    single = False\n",
    "    if isinstance(texts, str):\n",
    "        texts = [texts]\n",
    "        single = True\n",
    "\n",
    "    embs = embed_model.encode(texts, convert_to_numpy=True)\n",
    "\n",
    "    # If only one input, return its vector directly\n",
    "    return embs[0] if single else embs\n"
   ]
  },
  {
   "cell_type": "markdown",
   "id": "b5ecd82c",
   "metadata": {},
   "source": [
    "Chunking the few-shot examples"
   ]
  },
  {
   "cell_type": "code",
   "execution_count": null,
   "id": "0e1a6c54",
   "metadata": {},
   "outputs": [
    {
     "name": "stdout",
     "output_type": "stream",
     "text": [
      "Prepared 1400 few-shot examples (7 emotions × up to 200 each)\n"
     ]
    }
   ],
   "source": [
    "\n",
    "# 2) Chunk long texts into 1–2 sentence chunks (if you want)\n",
    "def chunk_text(text, max_sentences=2):\n",
    "    sents = sent_tokenize(text)\n",
    "    for i in range(0, len(sents), max_sentences):\n",
    "        yield \" \".join(sents[i : i + max_sentences]).strip()\n",
    "\n",
    "shots = []\n",
    "for _, row in df.iterrows():\n",
    "    text = row[\"text\"].strip()\n",
    "    emo  = row[\"ekman_emotion\"]\n",
    "    for chunk in chunk_text(text):\n",
    "        shots.append({\"text\": chunk, \"emotion\": emo})\n",
    "\n",
    "# 4) Balance to N examples per emotion (to avoid over-representing any one)\n",
    "N = 200\n",
    "by_emo = defaultdict(list)\n",
    "for shot in shots:\n",
    "    by_emo[shot[\"emotion\"]].append(shot)\n",
    "\n",
    "few_shots = []\n",
    "for emo, lst in by_emo.items():\n",
    "    few_shots.extend(lst[:N])\n",
    "\n",
    "print(f\"Prepared {len(few_shots)} few-shot examples \"\n",
    "      f\"({len(by_emo)} emotions × up to {N} each)\")"
   ]
  },
  {
   "cell_type": "markdown",
   "id": "23aff0f8",
   "metadata": {},
   "source": [
    "Embedding the few-shot examples"
   ]
  },
  {
   "cell_type": "code",
   "execution_count": null,
   "id": "e9e393c2",
   "metadata": {},
   "outputs": [
    {
     "name": "stdout",
     "output_type": "stream",
     "text": [
      "Embedded 1400 few-shot examples into a (1400, 384) array\n"
     ]
    }
   ],
   "source": [
    "# 1) Embed each shot in place\n",
    "for shot in few_shots:\n",
    "    shot[\"embedding\"] = embed(shot[\"text\"])\n",
    "\n",
    "# 2) (Optional) Build an (N, D) matrix for retrieval\n",
    "emb_matrix = np.vstack([shot[\"embedding\"] for shot in few_shots]).astype(\"float32\")\n",
    "\n",
    "print(f\"Embedded {len(few_shots)} few-shot examples into a {emb_matrix.shape} array\")\n"
   ]
  },
  {
   "cell_type": "code",
   "execution_count": null,
   "id": "dfa13cbb",
   "metadata": {},
   "outputs": [],
   "source": [
    "# Define your state type\n",
    "class ReviewState(TypedDict):\n",
    "    review_text: str\n",
    "    few_shot_examples: List[Dict[str, str]] \n",
    "    emotion: [str]\n",
    "    draft_reply: [str]\n",
    "    verbose: bool = False"
   ]
  },
  {
   "cell_type": "markdown",
   "id": "2038cd1a",
   "metadata": {},
   "source": [
    "Creating the nodes of the system"
   ]
  },
  {
   "cell_type": "code",
   "execution_count": 42,
   "id": "483cc78d",
   "metadata": {},
   "outputs": [],
   "source": [
    "few_shots: List[Dict[str, object]] = few_shots # List of few-shot examples\n",
    "emb_matrix: np.ndarray = np.vstack([shot[\"embedding\"] for shot in few_shots]).astype(\"float32\")"
   ]
  },
  {
   "cell_type": "code",
   "execution_count": 44,
   "id": "5e30c998",
   "metadata": {},
   "outputs": [],
   "source": [
    "def read_review(state: ReviewState) -> dict:\n",
    "    \"\"\"Reviewbot loads and logs the incoming customer review\"\"\"\n",
    "    review = state[\"review_text\"]\n",
    "    if state[\"verbose\"]:\n",
    "        print(f\"Reviewbot received review: “{review}”\")\n",
    "    # no changes to state here\n",
    "    return {}\n",
    "\n",
    "\n",
    "#dynamic few-shotting technique, matches unseen reviews to the most similar few-shot examples\n",
    "def retrieve_few_shot_examples(state: ReviewState) -> dict:\n",
    "    \"\"\"\n",
    "    Embed the incoming review, compute cosine similarity against your pre-embedded few_shots,\n",
    "    and stash the top-5 (text, emotion) pairs into state['few_shot_examples'].\n",
    "    \"\"\"\n",
    "    # 1) Embed the new review\n",
    "    q_emb = embed(state[\"review_text\"]).reshape(1, -1).astype(\"float32\")\n",
    "    \n",
    "    # 2) Compute cosine similarities\n",
    "    sims = cosine_similarity(q_emb, emb_matrix)[0]  # shape (N,)\n",
    "    \n",
    "    # 3) Grab top-5 indices\n",
    "    topk = sims.argsort()[-5:][::-1]\n",
    "    \n",
    "    # 4) Build a simple list of {text, emotion}\n",
    "    state[\"few_shot_examples\"] = [\n",
    "        {\"text\": few_shots[i][\"text\"], \"emotion\": few_shots[i][\"emotion\"]}\n",
    "        for i in topk\n",
    "    ]\n",
    "    return {}  # no state keys beyond few_shot_examples\n",
    "\n",
    "def classify_emotion(state: ReviewState) -> dict:\n",
    "    \"\"\"Use the LLM with few-shot context + Ekman definitions to pick emotions.\"\"\"\n",
    "    text = state[\"review_text\"]\n",
    "    # Format few-shot context\n",
    "    example_lines = \"\\n\".join(\n",
    "        f\"- “{ex['text']}” → {ex['emotion']}\"\n",
    "        for ex in state[\"few_shot_examples\"]\n",
    "    )\n",
    "    \n",
    "    prompt = f\"\"\"\n",
    "You are an expert at mapping customer reviews to Ekman’s six emotions (or neutral).\n",
    "\n",
    "Here are a few similar, labeled examples:\n",
    "{example_lines}\n",
    "\n",
    "Now classify this new review into one or more of:\n",
    "anger, disgust, fear, joy, sadness, surprise, neutral.\n",
    "\n",
    "Review:\n",
    "\\\"\\\"\\\"{text}\\\"\\\"\\\"\n",
    "\n",
    "Respond **only** in JSON with:\n",
    "  • emotion: a string or list of strings from the set above.\n",
    "\"\"\"\n",
    "    response_model = model.create_response_model(\n",
    "        \"FewShotEmotionClassification\",\n",
    "        {\n",
    "            \"emotion\": (\n",
    "                # allow multi-label if you want, or just one\n",
    "                List[Literal[\"anger\",\"disgust\",\"fear\",\"joy\",\"sadness\",\"surprise\",\"neutral\"]],\n",
    "                Field(description=\"The chosen Ekman emotion(s)\")\n",
    "            ),\n",
    "        }\n",
    "    )\n",
    "    resp = model.invoke(prompt, response_model=response_model)\n",
    "    \n",
    "    return {\"emotion\": resp.emotion}\n",
    "\n",
    "def draft_response(state: ReviewState) -> dict:\n",
    "    \"\"\"Draft an empathetic reply based on the classified emotion\"\"\"\n",
    "    text = state[\"review_text\"]\n",
    "    emo  = state[\"emotion\"] or \"neutral\"\n",
    "    prompt = f\"\"\"A customer expresses **{emo}** in this review:\n",
    "\\\"\\\"\\\"{text}\\\"\\\"\\\"\n",
    "\n",
    "Write a concise, empathetic customer-service response that:\n",
    "  - Acknowledges their {emo},\n",
    "  - Addresses any concerns they raise,\n",
    "  - Invites further dialogue if needed.\n",
    "\"\"\"\n",
    "    resp = model.invoke(prompt)\n",
    "    return {\"draft_reply\": resp.answer}\n",
    "\n",
    "\n",
    "def notify_user(state: ReviewState) -> dict:\n",
    "    \"\"\"Present the final draft back to the support employee\"\"\"\n",
    "    if state[\"verbose\"]:\n",
    "        print(\"\\n\" + \"=\"*40)\n",
    "        print(f\"Review classified as: {state['emotion']}\")\n",
    "        print(\"Draft response:\")\n",
    "        print(state[\"draft_reply\"])\n",
    "        print(\"=\"*40 + \"\\n\")\n",
    "    return {}"
   ]
  },
  {
   "cell_type": "markdown",
   "id": "0e5f84eb",
   "metadata": {},
   "source": [
    "No need for conditional edge as it is a linear system"
   ]
  },
  {
   "cell_type": "markdown",
   "id": "24bddc11",
   "metadata": {},
   "source": [
    "### Creating Graph of the system"
   ]
  },
  {
   "cell_type": "code",
   "execution_count": 47,
   "id": "050e574e",
   "metadata": {},
   "outputs": [],
   "source": [
    "# Create the graph\n",
    "review_graph = StateGraph(ReviewState)  # Initialize with your ReviewState\n",
    "\n",
    "# Add nodes\n",
    "review_graph.add_node(\"read review\",       read_review)\n",
    "review_graph.add_node(\"retrieve few-shot examples\", retrieve_few_shot_examples)\n",
    "review_graph.add_node(\"classify emotion\",  classify_emotion)\n",
    "review_graph.add_node(\"draft response\",    draft_response)\n",
    "review_graph.add_node(\"notify user\",      notify_user)\n",
    "\n",
    "# Wire up the edges\n",
    "# 1) START → read_review\n",
    "review_graph.add_edge(START, \"read review\")\n",
    "\n",
    "review_graph.add_edge(\"read review\", \"retrieve few-shot examples\")\n",
    "# 2) retrieve_few_shot_examples → classify_emotion\n",
    "review_graph.add_edge(\"retrieve few-shot examples\", \"classify emotion\")\n",
    "\n",
    "# 3) classify_emotion → route_review\n",
    "review_graph.add_edge(\"classify emotion\", \"draft response\")\n",
    "\n",
    "#4 ) draft_response → notify_user\n",
    "review_graph.add_edge(\"draft response\", \"notify user\")\n",
    "\n",
    "# 5) notify_user → END\n",
    "review_graph.add_edge(\"notify user\", END)\n",
    "\n",
    "\n",
    "compiled_graph = review_graph.compile()"
   ]
  },
  {
   "cell_type": "markdown",
   "id": "b1f40cdd",
   "metadata": {},
   "source": [
    "Print the graph"
   ]
  },
  {
   "cell_type": "code",
   "execution_count": 48,
   "id": "aa80d76e",
   "metadata": {},
   "outputs": [
    {
     "data": {
      "image/png": "[encoded data removed]",
      "text/plain": [
       "<IPython.core.display.Image object>"
      ]
     },
     "execution_count": 48,
     "metadata": {},
     "output_type": "execute_result"
    }
   ],
   "source": [
    "Image(compiled_graph.get_graph().draw_mermaid_png(draw_method=MermaidDrawMethod.API))"
   ]
  }
 ],
 "metadata": {
  "kernelspec": {
   "display_name": "Python 3",
   "language": "python",
   "name": "python3"
  },
  "language_info": {
   "codemirror_mode": {
    "name": "ipython",
    "version": 3
   },
   "file_extension": ".py",
   "mimetype": "text/x-python",
   "name": "python",
   "nbconvert_exporter": "python",
   "pygments_lexer": "ipython3",
   "version": "3.12.6"
  }
 },
 "nbformat": 4,
 "nbformat_minor": 5
}
