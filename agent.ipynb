{
 "cells": [
  {
   "cell_type": "markdown",
   "id": "3c1dd17b",
   "metadata": {},
   "source": [
    "## Building a router agent to classify text/reviews and draft up a response"
   ]
  },
  {
   "cell_type": "code",
   "execution_count": null,
   "id": "f17f64fe",
   "metadata": {},
   "outputs": [],
   "source": [
    "# built-in libraries\n",
    "import os\n",
    "from typing import Literal, TypedDict,  Any, Optional, Tuple, List, Dict, Union\n",
    "\n",
    "# langgraph libraries\n",
    "from langgraph.graph import StateGraph, START, END\n",
    "from langchain_core.runnables.graph import  MermaidDrawMethod\n",
    "\n",
    "# misc libraries\n",
    "from pydantic import Field\n",
    "from IPython.display import Image\n",
    "#from decouple import config\n",
    "from ibm_watsonx_ai.metanames import GenTextParamsMetaNames as GenParams\n",
    "from tqdm import tqdm\n",
    "from sklearn.metrics import f1_score\n",
    "\n",
    "\n"
   ]
  },
  {
   "cell_type": "markdown",
   "id": "5f7acfb8",
   "metadata": {},
   "source": [
    "Watsonx credentials"
   ]
  },
  {
   "cell_type": "code",
   "execution_count": 9,
   "id": "e061463d",
   "metadata": {},
   "outputs": [],
   "source": [
    "WX_API_KEY = os.getenv(\"WX_API_KEY\")\n",
    "WX_PROJECT_ID_RAG = os.getenv(\"WX_PROJECT_ID_RAG\")\n",
    "WX_API_URL = \"https://us-south.ml.cloud.ibm.com\""
   ]
  },
  {
   "cell_type": "markdown",
   "id": "da3fddbe",
   "metadata": {},
   "source": [
    "Getting our LLM caller class - Defined in LLM.py"
   ]
  },
  {
   "cell_type": "code",
   "execution_count": null,
   "id": "5c67fe12",
   "metadata": {},
   "outputs": [],
   "source": [
    "\n",
    "model = LLMCaller(\n",
    "    api_key=WX_API_KEY,\n",
    "    project_id=WX_PROJECT_ID_RAG,\n",
    "    api_url=WX_API_URL,\n",
    "    model_id=\"watsonx/ibm/granite-3-8b-instruct\",\n",
    "    params={\n",
    "        GenParams.TEMPERATURE: 0.3,\n",
    "        GenParams.MAX_NEW_TOKENS: 70,\n",
    "    }\n",
    ")"
   ]
  },
  {
   "cell_type": "markdown",
   "id": "c1896a81",
   "metadata": {},
   "source": [
    "Frist we define the STATE, this contains the attributes we cant populated when we run the system"
   ]
  },
  {
   "cell_type": "code",
   "execution_count": 29,
   "id": "cf1376fc",
   "metadata": {},
   "outputs": [],
   "source": [
    "# Define your state type\n",
    "class ReviewState(TypedDict):\n",
    "    review_text: str\n",
    "    emotion: [str]\n",
    "    draft_reply: [str]\n",
    "    verbose: bool = False"
   ]
  },
  {
   "cell_type": "markdown",
   "id": "2038cd1a",
   "metadata": {},
   "source": [
    "Creating the nodes of the system"
   ]
  },
  {
   "cell_type": "code",
   "execution_count": null,
   "id": "5e30c998",
   "metadata": {},
   "outputs": [],
   "source": [
    "def read_review(state: ReviewState) -> dict:\n",
    "    \"\"\"Reviewbot loads and logs the incoming customer review\"\"\"\n",
    "    review = state[\"review_text\"]\n",
    "    if state[\"verbose\"]:\n",
    "        print(f\"Reviewbot received review: “{review}”\")\n",
    "    # no changes to state here\n",
    "    return {}\n",
    "\n",
    "\n",
    "def classify_emotion(state: ReviewState) -> dict:\n",
    "    \"\"\"Use the LLM to pick one or more Ekman emotions\"\"\"\n",
    "    text = state[\"review_text\"]\n",
    "    prompt = f\"\"\"you an expert in decphiering emotions from texts, Your job is to read a text/review and selects one or more of Ekman's six basic emotions (anger, disgust, fear, joy, sadness, surprise, or neutral) which best fit the review/text.\n",
    "    \n",
    "Review:\n",
    "\\\"\\\"\\\"{text}\\\"\\\"\\\"\n",
    "\n",
    "Respond **only** in JSON with the below field:\n",
    "  • emotion: \"anger\",\"disgust\",\"fear\",\"joy\",\"sadness\",\"surprise\" or \"neutral\"  \n",
    "\"\"\"\n",
    "    # build a structured response model\n",
    "    response_model = model.create_response_model(\n",
    "        \"EmotionClassification\",\n",
    "        {\n",
    "            \"emotion\": (\n",
    "                Literal[\"anger\", \"disgust\", \"fear\", \"joy\", \"sadness\", \"surprise\", \"neutral\"],\n",
    "                Field(description=\"The chosen emotion\")\n",
    "            ),\n",
    "        }\n",
    "    )\n",
    "    resp = model.invoke(prompt, response_model=response_model)\n",
    "    return {\n",
    "        \"emotion\": resp.emotion,\n",
    "    }\n",
    "\n",
    "\n",
    "def draft_response(state: ReviewState) -> dict:\n",
    "    \"\"\"Draft an empathetic reply based on the classified emotion\"\"\"\n",
    "    text = state[\"review_text\"]\n",
    "    emo  = state[\"emotion\"]\n",
    "    prompt = f\"\"\"A customer expresses **{emo}** in this review:\n",
    "\\\"\\\"\\\"{text}\\\"\\\"\\\"\n",
    "\n",
    "Write a concise, empathetic customer-service response that:\n",
    "  - Acknowledges their {emo},\n",
    "  - Addresses any concerns they raise,\n",
    "  - Invites further dialogue if needed.\n",
    "\"\"\"\n",
    "    resp = model.invoke(prompt)\n",
    "    return {\"draft_reply\": resp.answer}\n",
    "\n",
    "\n",
    "def notify_user(state: ReviewState) -> dict:\n",
    "    \"\"\"Present the final draft back to the support agent\"\"\"\n",
    "    if state[\"verbose\"]:\n",
    "        print(\"\\n\" + \"=\"*40)\n",
    "        print(f\"Review classified as: {state['emotion']}\")\n",
    "        print(\"Draft response:\")\n",
    "        print(state[\"draft_reply\"])\n",
    "        print(\"=\"*40 + \"\\n\")\n",
    "    return {}\n"
   ]
  },
  {
   "cell_type": "markdown",
   "id": "0e5f84eb",
   "metadata": {},
   "source": [
    "Creating the conditional edge"
   ]
  },
  {
   "cell_type": "code",
   "execution_count": 16,
   "id": "8beb6cc5",
   "metadata": {},
   "outputs": [],
   "source": [
    "def route_review(state: ReviewState) -> str:\n",
    "    \"\"\"Route to the next step based on the detected emotion.\"\"\"\n",
    "    # We always want to draft a response—\n",
    "    # so we unconditionally return the label that points at the DraftReply node.\n",
    "    return \"to_draft\"\n"
   ]
  },
  {
   "cell_type": "markdown",
   "id": "24bddc11",
   "metadata": {},
   "source": [
    "### Creating Graph of the system"
   ]
  },
  {
   "cell_type": "code",
   "execution_count": 40,
   "id": "050e574e",
   "metadata": {},
   "outputs": [],
   "source": [
    "# Create the graph\n",
    "review_graph = StateGraph(ReviewState)  # Initialize with your ReviewState\n",
    "\n",
    "# Add nodes\n",
    "review_graph.add_node(\"read review\",       read_review)\n",
    "review_graph.add_node(\"classify emotion\",  classify_emotion)\n",
    "review_graph.add_node(\"draft response\",    draft_response)\n",
    "\n",
    "# Wire up the edges\n",
    "# 1) START → read_review\n",
    "review_graph.add_edge(START, \"read review\")\n",
    "\n",
    "# 2) read_review → classify_emotion\n",
    "review_graph.add_edge(\"read review\", \"classify emotion\")\n",
    "\n",
    "# 3) classify_emotion → route_review\n",
    "review_graph.add_edge(\"classify emotion\", \"draft response\")\n",
    "\n",
    "review_graph.add_edge(\"draft response\", END)\n",
    "\n",
    "compiled_graph = review_graph.compile()"
   ]
  },
  {
   "cell_type": "markdown",
   "id": "b1f40cdd",
   "metadata": {},
   "source": [
    "Print the graph"
   ]
  },
  {
   "cell_type": "code",
   "execution_count": 41,
   "id": "aa80d76e",
   "metadata": {},
   "outputs": [
    {
     "data": {
      "image/png": "[encoded data removed]",
      "text/plain": [
       "<IPython.core.display.Image object>"
      ]
     },
     "execution_count": 41,
     "metadata": {},
     "output_type": "execute_result"
    }
   ],
   "source": [
    "Image(compiled_graph.get_graph().draw_mermaid_png(draw_method=MermaidDrawMethod.API))"
   ]
  }
 ],
 "metadata": {
  "kernelspec": {
   "display_name": "Python 3",
   "language": "python",
   "name": "python3"
  },
  "language_info": {
   "codemirror_mode": {
    "name": "ipython",
    "version": 3
   },
   "file_extension": ".py",
   "mimetype": "text/x-python",
   "name": "python",
   "nbconvert_exporter": "python",
   "pygments_lexer": "ipython3",
   "version": "3.12.6"
  }
 },
 "nbformat": 4,
 "nbformat_minor": 5
}
